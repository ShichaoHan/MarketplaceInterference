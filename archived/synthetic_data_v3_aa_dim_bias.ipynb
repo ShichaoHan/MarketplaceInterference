{
 "cells": [
  {
   "cell_type": "code",
   "execution_count": 1,
   "metadata": {},
   "outputs": [],
   "source": [
    "import pandas as pd \n",
    "import numpy as np \n",
    "import matplotlib.pyplot as plt \n",
    "import numpy as np \n",
    "import tensorflow as tf \n",
    "from tensorflow.keras import Model \n",
    "from tensorflow.keras.layers import Dense\n",
    "from tensorflow.keras import layers\n",
    "from scipy.special import kl_div\n"
   ]
  },
  {
   "cell_type": "code",
   "execution_count": 2,
   "metadata": {},
   "outputs": [],
   "source": [
    "import tensorflow_ranking as tfr "
   ]
  },
  {
   "cell_type": "code",
   "execution_count": 3,
   "metadata": {},
   "outputs": [],
   "source": [
    "import time "
   ]
  },
  {
   "cell_type": "markdown",
   "metadata": {},
   "source": [
    "## Updated - April Cross-Validation"
   ]
  },
  {
   "cell_type": "code",
   "execution_count": 4,
   "metadata": {},
   "outputs": [],
   "source": [
    "import seaborn as sns\n",
    "x = np.linspace(-4, 4, 100)\n",
    "tencent_blue = (0,0.3215686274509804,0.8509803921568627)\n",
    "tencent_orange = (0.9333333333333333, 0.49411764705882355, 0.2784313725490196)\n",
    "\n",
    "\n",
    "# Calculate y-values for the standard normal density curve\n",
    "y_standard_normal = (1 / np.sqrt(2 * np.pi)) * np.exp(-0.5 * x**2)"
   ]
  },
  {
   "cell_type": "code",
   "execution_count": null,
   "metadata": {},
   "outputs": [],
   "source": []
  },
  {
   "cell_type": "code",
   "execution_count": 7,
   "metadata": {},
   "outputs": [],
   "source": [
    "def aggregate_probability_exposure_examination(probs_matrix, exposure_matrix): \n",
    "    aggregate_probs = np.mean(probs_matrix, axis = 0)\n",
    "    exposure_probs = np.mean(exposure_matrix, axis = 0)\n",
    "    ## Euclidean distance \n",
    "    euc_dist = np.linalg.norm(aggregate_probs - exposure_probs)\n",
    "    ## NDCG LOSS \n",
    "    y_true = tf.ragged.constant(exposure_matrix)\n",
    "    y_pred = tf.ragged.constant(probs_matrix)\n",
    "    loss_NDCG = tfr.keras.losses.ApproxNDCGLoss(ragged=True)\n",
    "    NDCG_loss_result = loss_NDCG(y_true, y_pred).numpy()\n",
    "    return euc_dist, aggregate_probs, exposure_probs, NDCG_loss_result\n",
    "def mySoftMax(arr):\n",
    "    num = np.exp(arr)\n",
    "    denom = np.sum(num)\n",
    "    return num/denom\n",
    "\n",
    "\n",
    "def naive_est(res):\n",
    "    treat_res = [elm[0] for elm in res[0]]\n",
    "    control_res = [elm[1] for elm in res[0]]\n",
    "    return np.mean(treat_res) - np.mean(control_res)\n",
    "\n",
    "\n",
    "def dim_est(obs_T, obs_C):\n",
    "    n1,n0 = len(obs_T), len(obs_C)\n",
    "    return np.mean(obs_T) -np.mean(obs_C), np.sqrt(np.var(obs_T)/n1 + np.var(obs_C) / n0)\n",
    "\n",
    "\n",
    "def point_est(all_treat_array, all_control_array):\n",
    "    mus_T, mus_C  = all_treat_array[:, 11:21], all_control_array[:,11:21]\n",
    "    p_T, p_C  = all_treat_array[:, 21:], all_control_array[:,21:]\n",
    "    return np.mean(np.sum((mus_T * (p_T - p_C)), axis = 1 ))\n",
    "\n",
    "\n",
    "def naive_dim_estimate(vector_T, vector_C):\n",
    "    return np.mean(vector_T) - np.mean(vector_C), np.var(vector_T)/len(vector_T) + np.var(vector_C) / len(vector_C)\n",
    "\n",
    "def debias_estimator(Hfuncs, debias_terms):\n",
    "    score_functions = Hfuncs - debias_terms \n",
    "    undebiased_estimator = np.mean(Hfuncs)\n",
    "    debiased_estimator = np.mean(score_functions)\n",
    "    variance_estimator = np.mean((score_functions - debiased_estimator)**2) /len(score_functions)\n",
    "    return debiased_estimator, variance_estimator, undebiased_estimator \n",
    "\n",
    "def debias_estimator_new(Hfuncs, debias_terms,tau_hat):\n",
    "    psi_functions = Hfuncs - debias_terms \n",
    "    undebiased_estimator = np.mean(Hfuncs)\n",
    "    debiased_estimator = np.mean(psi_functions)\n",
    "    variance_estimator = np.sum((psi_functions - tau_hat)**2) /len(psi_functions)\n",
    "    return debiased_estimator, variance_estimator, undebiased_estimator \n",
    "\n",
    "\n",
    "def undebias_estimator_new(Hfuncs,tau_hat):\n",
    "    psi_functions = Hfuncs \n",
    "    undebiased_estimator = np.mean(Hfuncs)\n",
    "    variance_estimator = np.sum((psi_functions - tau_hat)**2) /len(psi_functions)\n",
    "    \n",
    "    return undebiased_estimator, variance_estimator \n",
    "\n",
    "\n",
    "def is_invertible(matrix):\n",
    "    return np.linalg.det(matrix) != 0"
   ]
  },
  {
   "cell_type": "code",
   "execution_count": null,
   "metadata": {},
   "outputs": [],
   "source": []
  },
  {
   "cell_type": "code",
   "execution_count": 113,
   "metadata": {},
   "outputs": [],
   "source": [
    "## True Model \n",
    "\n",
    "class MyModel_True:\n",
    "    def __init__(self, k, num_treats,promo_ratio):\n",
    "\n",
    "        self.k = k\n",
    "        self.promo_ratio = promo_ratio\n",
    "        self.num_treats = num_treats\n",
    "\n",
    "    def predict(self,inputs):\n",
    "        Q_input = inputs.shape[0]\n",
    "        split_structure =  [1]+ [1] + [1] * self.num_treats + [1]\n",
    "        splitted_elements = tf.split(inputs, split_structure, axis=2)\n",
    "        X_utility =  np.squeeze(np.array(splitted_elements[1]), axis=2)\n",
    "        X_goodbads = np.squeeze(np.array(splitted_elements[0]), axis = 2)\n",
    "        X_utility = X_utility + X_goodbads\n",
    "        W_matrix =  np.squeeze(np.array(splitted_elements[2]), axis =2 )\n",
    "\n",
    "        final_score_matrix =  W_matrix * self.promo_ratio  + X_utility\n",
    "\n",
    "        ## First element of each row \n",
    "        first_elm = X_utility[:,0]\n",
    "        minus_matrix = first_elm.reshape((len(first_elm),1))@np.ones((1,K))\n",
    "        final_score_matrix_normalized = final_score_matrix - minus_matrix\n",
    "        ## Correct exposure probability \n",
    "        X_logit = np.apply_along_axis(logistic_row, axis=1, arr=final_score_matrix_normalized)\n",
    "    \n",
    "        expose_indices = np.argmax(X_logit, axis = 1)\n",
    "        inddds = np.array(list(np.arange(K)) * Q_input).reshape(Q_input,K)\n",
    "        exposure_matrix = np.array([inddds[i,:] == expose_indices[i] for i in range(Q_input)])\n",
    "\n",
    "        ## Outcome model  \n",
    "        \n",
    "        ## First: a true outcome model of Exponential \n",
    "        outcome_potential = np.random.normal(size=(Q_input, K)) +  X_utility + W_matrix\n",
    "        pred_out = np.sum(exposure_matrix * outcome_potential, axis = 1 )\n",
    "        pred_out = pred_out.reshape(pred_out.shape[0], 1 )\n",
    "        return np.concatenate([X_logit, pred_out], axis = 1 )\n",
    "## True Model \n",
    "\n",
    "class MyModel_Random:\n",
    "    def __init__(self, k, num_treats,promo_ratio):\n",
    "\n",
    "        self.k = k\n",
    "        self.promo_ratio = promo_ratio\n",
    "        self.num_treats = num_treats\n",
    "\n",
    "    def predict(self,inputs):\n",
    "        output_shape = np.array(input_3d_test_treat.shape)[:2]\n",
    "        array = np.random.rand(output_shape[0],output_shape[1])\n",
    "        # Compute the sum of each row\n",
    "        row_sums = np.sum(array, axis=1)\n",
    "\n",
    "        # Reshape the row sums to make them compatible for broadcasting\n",
    "        row_sums = row_sums.reshape(-1, 1)\n",
    "\n",
    "        normalized_array = array / row_sums\n",
    "\n",
    "        return normalized_array"
   ]
  },
  {
   "cell_type": "code",
   "execution_count": null,
   "metadata": {},
   "outputs": [],
   "source": []
  },
  {
   "cell_type": "code",
   "execution_count": 114,
   "metadata": {},
   "outputs": [],
   "source": [
    "## Number of videos \n",
    "J = 20 \n",
    "## Consideration set size \n",
    "K = 5 \n",
    "k=5\n",
    "## Generate some queries along with the recommendation model \n",
    "Q = 800\n",
    "\n",
    "\n",
    "def permute_treatment_dict(J):\n",
    "    perm_dict = {}\n",
    "    for j in range(J):\n",
    "        perm_dict[j] = np.random.choice([True,False], 1)\n",
    "    return perm_dict"
   ]
  },
  {
   "cell_type": "code",
   "execution_count": null,
   "metadata": {},
   "outputs": [],
   "source": []
  },
  {
   "cell_type": "code",
   "execution_count": null,
   "metadata": {},
   "outputs": [],
   "source": []
  },
  {
   "cell_type": "code",
   "execution_count": null,
   "metadata": {},
   "outputs": [],
   "source": []
  },
  {
   "cell_type": "code",
   "execution_count": 115,
   "metadata": {},
   "outputs": [],
   "source": [
    "\n",
    "## True Exposure Model and Data Generating Process \n",
    "def logistic_row(row):\n",
    "    return np.exp(row) / np.sum(np.exp(row))\n",
    "\n",
    "\n",
    "\n",
    "\n",
    "\n",
    "# I. deterministic: \n",
    "# selected_indices = np.argmax(X_logit, axis = 1)\n",
    "# II. random choice for exposure \n",
    "\n",
    "def DGP(promo_rat, K,Q, J):\n",
    "    ## Generate a utility score for each viewer and video pair\n",
    "    utility_score_matrix = np.exp(np.random.normal(size=(Q,J)))\n",
    "    good_bad_dict = {} \n",
    "    treatment_dict = {} \n",
    "    utility_score = {} \n",
    "    for j in range(J):\n",
    "        good_bad_dict[j] = np.random.choice([True,False], 1)\n",
    "        treatment_dict[j] = np.random.choice([True,False], 1)\n",
    "        utility_score[j] = np.random.uniform()\n",
    "    X_goodbads = []\n",
    "    X_utility = []\n",
    "    W_matrix = []\n",
    "    query_matrix = []\n",
    "    promo_ratio = promo_rat\n",
    "    for each_query in range(Q):\n",
    "        ## Form the consideration set \n",
    "        selected_indices = np.random.choice(np.arange(J), K, replace= False)\n",
    "        query_matrix += [selected_indices]\n",
    "        X_goodbads = np.append(X_goodbads,[good_bad_dict[ind] for ind in selected_indices])\n",
    "        X_utility = np.append(X_utility, [utility_score_matrix[each_query, ind] for ind in selected_indices])\n",
    "        W_matrix = np.append(W_matrix, [treatment_dict[ind] for ind in selected_indices])\n",
    "    X_goodbads = X_goodbads.reshape(Q, K)\n",
    "    X_utility = X_utility.reshape(Q, K)\n",
    "    X_utility = X_utility + X_goodbads \n",
    "    W_matrix = W_matrix.reshape(Q,K)\n",
    "    final_score_matrix =  W_matrix * promo_ratio  + X_utility\n",
    "\n",
    "    X_logit = np.apply_along_axis(logistic_row, axis=1, arr=final_score_matrix)\n",
    "    expose_indices = np.array([np.random.choice(np.arange(K), size = 1, p = X_logit[i,:]) for i in range(Q)])\n",
    "    inddds = np.array(list(np.arange(K)) * Q).reshape(Q,K)\n",
    "    exposure_matrix = np.array([inddds[i,:] == expose_indices[i] for i in range(Q)])\n",
    "\n",
    "    ## Outcome model  \n",
    "    ## First: a true outcome model of Exponential \n",
    "    outcome_potential = np.random.normal(size=(Q, K)) +  X_utility + W_matrix\n",
    "\n",
    "    return query_matrix,X_goodbads,X_utility,W_matrix, exposure_matrix, outcome_potential\n",
    "\n"
   ]
  },
  {
   "cell_type": "code",
   "execution_count": null,
   "metadata": {},
   "outputs": [],
   "source": []
  },
  {
   "cell_type": "code",
   "execution_count": null,
   "metadata": {},
   "outputs": [],
   "source": []
  },
  {
   "cell_type": "code",
   "execution_count": null,
   "metadata": {},
   "outputs": [],
   "source": []
  },
  {
   "cell_type": "code",
   "execution_count": 137,
   "metadata": {},
   "outputs": [],
   "source": [
    "def DGP_with_counter_factual(promo_rat, K,Q, J):\n",
    "    ## Generate a utility score for each viewer and video pair\n",
    "    utility_score_matrix = np.exp(np.random.normal(size=(Q,J)))\n",
    "    good_bad_dict = {} \n",
    "    treatment_dict = {} \n",
    "    utility_score = {} \n",
    "    for j in range(J):\n",
    "        good_bad_dict[j] = np.random.choice([True,False], 1)\n",
    "        treatment_dict[j] = np.random.choice([True,False], 1)\n",
    "        utility_score[j] = np.random.uniform()\n",
    "    X_goodbads = []\n",
    "    X_utility = []\n",
    "    W_matrix = []\n",
    "    query_matrix = []\n",
    "    promo_ratio = promo_rat\n",
    "    for each_query in range(Q):\n",
    "        ## Form the consideration set \n",
    "        selected_indices = np.random.choice(np.arange(J), K, replace= False)\n",
    "        query_matrix += [selected_indices]\n",
    "        X_goodbads = np.append(X_goodbads,[good_bad_dict[ind] for ind in selected_indices])\n",
    "        X_utility = np.append(X_utility, [utility_score_matrix[each_query, ind] for ind in selected_indices])\n",
    "        W_matrix = np.append(W_matrix, [treatment_dict[ind] for ind in selected_indices])\n",
    "    X_goodbads = X_goodbads.reshape(Q, K)\n",
    "    X_utility = X_utility.reshape(Q, K)\n",
    "    X_uitlity = X_utility + X_goodbads \n",
    "    W_matrix = W_matrix.reshape(Q,K)\n",
    "    final_score_matrix = W_matrix * promo_ratio  + X_utility\n",
    "    ## Add counterfactuals \n",
    "    final_score_treat =  promo_ratio   + X_utility\n",
    "    final_score_control = X_utility \n",
    "    \n",
    "    \n",
    "    X_logit = np.apply_along_axis(logistic_row, axis=1, arr=final_score_matrix)\n",
    "    ## Add counterfactuals \n",
    "    X_logit_treat = np.apply_along_axis(logistic_row, axis=1, arr=final_score_treat)\n",
    "    X_logit_control = np.apply_along_axis(logistic_row, axis=1, arr=final_score_control)\n",
    "    \n",
    "    \n",
    "    expose_indices = np.array([np.random.choice(np.arange(K), size = 1, p = X_logit[i,:]) for i in range(Q)])\n",
    "    inddds = np.array(list(np.arange(K)) * Q).reshape(Q,K)\n",
    "    exposure_matrix = np.array([inddds[i,:] == expose_indices[i] for i in range(Q)])\n",
    "    \n",
    "    expose_indices_treat = np.array([np.random.choice(np.arange(K), size = 1, p = X_logit_treat[i,:]) for i in range(Q)])\n",
    "    exposure_matrix_treat = np.array([inddds[i,:] == expose_indices_treat[i] for i in range(Q)])\n",
    "    \n",
    "    expose_indices_control = np.array([np.random.choice(np.arange(K), size = 1, p = X_logit_control[i,:]) for i in range(Q)])\n",
    "    exposure_matrix_control = np.array([inddds[i,:] == expose_indices_control[i] for i in range(Q)])\n",
    "\n",
    "    ## Outcome model  \n",
    "    ## First: a true outcome model of Exponential \n",
    "    outcome_potential = np.random.normal(size=(Q, K)) +  X_utility + W_matrix\n",
    "\n",
    "    return query_matrix,X_goodbads,X_utility,W_matrix, exposure_matrix, outcome_potential, exposure_matrix_treat, exposure_matrix_control \n",
    "\n"
   ]
  },
  {
   "cell_type": "code",
   "execution_count": null,
   "metadata": {},
   "outputs": [],
   "source": []
  },
  {
   "cell_type": "code",
   "execution_count": null,
   "metadata": {},
   "outputs": [],
   "source": []
  },
  {
   "cell_type": "code",
   "execution_count": null,
   "metadata": {},
   "outputs": [],
   "source": []
  },
  {
   "cell_type": "code",
   "execution_count": 152,
   "metadata": {},
   "outputs": [],
   "source": [
    "## Helper function for cross validation\n",
    "def generate_indices(n, K):\n",
    "    ## Split original sample of size n into K sets \n",
    "    indices = np.linspace(0, n, K+1, dtype=int)\n",
    "    return list(zip(indices[:-1], indices[1:]))\n",
    "\n",
    "\n",
    "def train_test_split(input_data, all_inds, kth_test):\n",
    "    \n",
    "    training_ind = [all_inds[i] for i in range(len(all_inds)) if i != kth_test]\n",
    "    test_start, test_end = all_inds[kth_test]\n",
    "    if not tf.is_tensor(input_data):\n",
    "        training_data = np.concatenate([input_data[elm[0]:elm[1]] for elm in training_ind])\n",
    "    else:\n",
    "        \n",
    "        training_data = tf.concat([input_data[elm[0]:elm[1]] for elm in training_ind], axis = 0)\n",
    "    testing_data = input_data[test_start:test_end]\n",
    "    return training_data, testing_data \n",
    "\n"
   ]
  },
  {
   "cell_type": "code",
   "execution_count": 153,
   "metadata": {},
   "outputs": [],
   "source": [
    "uplift_ratio = 0.5"
   ]
  },
  {
   "cell_type": "code",
   "execution_count": 154,
   "metadata": {},
   "outputs": [],
   "source": [
    "MC = 1\n",
    "for mc in range(MC):\n",
    "    query_matrix,X_goodbads,X_utility,W_matrix, exposure_matrix, outcome_potential, exposure_matrix_treat, exposure_matrix_control = DGP_with_counter_factual(uplift_ratio, K,Q,J)\n",
    "    outcome_t = np.sum(outcome_potential * exposure_matrix_treat, axis = 1 )\n",
    "    outcome_c = np.sum(outcome_potential * exposure_matrix_control, axis = 1 )\n",
    "    \n",
    "    "
   ]
  },
  {
   "cell_type": "code",
   "execution_count": 155,
   "metadata": {},
   "outputs": [
    {
     "data": {
      "text/plain": [
       "4.058977652107595"
      ]
     },
     "execution_count": 155,
     "metadata": {},
     "output_type": "execute_result"
    }
   ],
   "source": [
    "np.mean(outcome_t)"
   ]
  },
  {
   "cell_type": "code",
   "execution_count": 156,
   "metadata": {},
   "outputs": [
    {
     "data": {
      "text/plain": [
       "4.058977652107595"
      ]
     },
     "execution_count": 156,
     "metadata": {},
     "output_type": "execute_result"
    }
   ],
   "source": [
    "np.mean(outcome_t)"
   ]
  },
  {
   "cell_type": "code",
   "execution_count": 157,
   "metadata": {},
   "outputs": [
    {
     "data": {
      "text/plain": [
       "3.9263524456503522"
      ]
     },
     "execution_count": 157,
     "metadata": {},
     "output_type": "execute_result"
    }
   ],
   "source": [
    "np.mean(outcome_c)"
   ]
  },
  {
   "cell_type": "code",
   "execution_count": 158,
   "metadata": {},
   "outputs": [
    {
     "data": {
      "text/plain": [
       "array([[ 0.,  0.,  0.,  0.,  0.],\n",
       "       [ 0.,  0.,  1., -1.,  0.],\n",
       "       [ 1., -1.,  0.,  0.,  0.],\n",
       "       ...,\n",
       "       [ 0.,  0.,  0.,  0.,  0.],\n",
       "       [ 0., -1.,  1.,  0.,  0.],\n",
       "       [ 0.,  1., -1.,  0.,  0.]])"
      ]
     },
     "execution_count": 158,
     "metadata": {},
     "output_type": "execute_result"
    }
   ],
   "source": [
    "exposure_matrix_treat.astype(float) - exposure_matrix_control.astype(float)"
   ]
  },
  {
   "cell_type": "markdown",
   "metadata": {},
   "source": []
  },
  {
   "cell_type": "code",
   "execution_count": null,
   "metadata": {},
   "outputs": [],
   "source": []
  },
  {
   "cell_type": "code",
   "execution_count": null,
   "metadata": {},
   "outputs": [],
   "source": []
  },
  {
   "cell_type": "code",
   "execution_count": 159,
   "metadata": {},
   "outputs": [
    {
     "data": {
      "text/plain": [
       "2"
      ]
     },
     "execution_count": 159,
     "metadata": {},
     "output_type": "execute_result"
    }
   ],
   "source": [
    "1 + 1 "
   ]
  },
  {
   "cell_type": "code",
   "execution_count": null,
   "metadata": {},
   "outputs": [],
   "source": []
  },
  {
   "cell_type": "code",
   "execution_count": null,
   "metadata": {},
   "outputs": [],
   "source": []
  },
  {
   "cell_type": "code",
   "execution_count": 160,
   "metadata": {},
   "outputs": [
    {
     "name": "stdout",
     "output_type": "stream",
     "text": [
      "Start K = 5, Q = 800, J = 30\n",
      "0\n",
      "9/9 [==============================] - 0s 476us/step\n",
      "9/9 [==============================] - 0s 571us/step\n",
      "9/9 [==============================] - 0s 772us/step\n",
      "9/9 [==============================] - 0s 589us/step\n",
      "Fail for inversion\n",
      "9/9 [==============================] - 0s 428us/step\n",
      "9/9 [==============================] - 0s 431us/step\n",
      "9/9 [==============================] - 0s 438us/step\n",
      "9/9 [==============================] - 0s 564us/step\n",
      "9/9 [==============================] - 0s 455us/step\n",
      "9/9 [==============================] - 0s 555us/step\n",
      "9/9 [==============================] - 0s 415us/step\n",
      "9/9 [==============================] - 0s 517us/step\n",
      "9/9 [==============================] - 0s 533us/step\n",
      "9/9 [==============================] - 0s 461us/step\n",
      "9/9 [==============================] - 0s 581us/step\n",
      "9/9 [==============================] - 0s 563us/step\n",
      "9/9 [==============================] - 0s 460us/step\n",
      "9/9 [==============================] - 0s 526us/step\n",
      "9/9 [==============================] - 0s 742us/step\n",
      "9/9 [==============================] - 0s 523us/step\n",
      "9/9 [==============================] - 0s 682us/step\n",
      "9/9 [==============================] - 0s 635us/step\n",
      "9/9 [==============================] - 0s 426us/step\n",
      "9/9 [==============================] - 0s 561us/step\n",
      "9/9 [==============================] - 0s 470us/step\n",
      "9/9 [==============================] - 0s 435us/step\n",
      "9/9 [==============================] - 0s 436us/step\n",
      "9/9 [==============================] - 0s 566us/step\n",
      "9/9 [==============================] - 0s 414us/step\n",
      "9/9 [==============================] - 0s 404us/step\n",
      "9/9 [==============================] - 0s 558us/step\n",
      "9/9 [==============================] - 0s 430us/step\n",
      "9/9 [==============================] - 0s 457us/step\n",
      "9/9 [==============================] - 0s 455us/step\n",
      "9/9 [==============================] - 0s 616us/step\n",
      "9/9 [==============================] - 0s 442us/step\n",
      "9/9 [==============================] - 0s 634us/step\n",
      "9/9 [==============================] - 0s 1ms/step\n",
      "9/9 [==============================] - 0s 657us/step\n",
      "9/9 [==============================] - 0s 477us/step\n",
      "9/9 [==============================] - 0s 485us/step\n",
      "9/9 [==============================] - 0s 565us/step\n",
      "9/9 [==============================] - 0s 425us/step\n",
      "9/9 [==============================] - 0s 438us/step\n",
      "9/9 [==============================] - 0s 467us/step\n",
      "9/9 [==============================] - 0s 432us/step\n",
      "9/9 [==============================] - 0s 465us/step\n",
      "9/9 [==============================] - 0s 446us/step\n",
      "9/9 [==============================] - 0s 600us/step\n",
      "9/9 [==============================] - 0s 542us/step\n",
      "9/9 [==============================] - 0s 634us/step\n",
      "9/9 [==============================] - 0s 568us/step\n",
      "9/9 [==============================] - 0s 411us/step\n",
      "9/9 [==============================] - 0s 638us/step\n",
      "9/9 [==============================] - 0s 707us/step\n",
      "9/9 [==============================] - 0s 472us/step\n",
      "9/9 [==============================] - 0s 650us/step\n",
      "9/9 [==============================] - 0s 601us/step\n",
      "9/9 [==============================] - 0s 622us/step\n",
      "9/9 [==============================] - 0s 432us/step\n",
      "20\n",
      "9/9 [==============================] - 0s 468us/step\n",
      "9/9 [==============================] - 0s 907us/step\n",
      "9/9 [==============================] - 0s 2ms/step\n",
      "9/9 [==============================] - 0s 676us/step\n",
      "9/9 [==============================] - 0s 489us/step\n",
      "9/9 [==============================] - 0s 548us/step\n",
      "9/9 [==============================] - 0s 1ms/step\n",
      "9/9 [==============================] - 0s 632us/step\n",
      "9/9 [==============================] - 0s 574us/step\n",
      "9/9 [==============================] - 0s 1ms/step\n",
      "9/9 [==============================] - 0s 1ms/step\n",
      "9/9 [==============================] - 0s 548us/step\n",
      "9/9 [==============================] - 0s 565us/step\n",
      "9/9 [==============================] - 0s 646us/step\n",
      "9/9 [==============================] - 0s 443us/step\n",
      "9/9 [==============================] - 0s 565us/step\n",
      "9/9 [==============================] - 0s 630us/step\n",
      "9/9 [==============================] - 0s 546us/step\n",
      "9/9 [==============================] - 0s 573us/step\n",
      "9/9 [==============================] - 0s 453us/step\n",
      "9/9 [==============================] - 0s 595us/step\n",
      "9/9 [==============================] - 0s 648us/step\n",
      "9/9 [==============================] - 0s 585us/step\n",
      "9/9 [==============================] - 0s 414us/step\n",
      "9/9 [==============================] - 0s 488us/step\n",
      "9/9 [==============================] - 0s 456us/step\n",
      "9/9 [==============================] - 0s 610us/step\n",
      "9/9 [==============================] - 0s 455us/step\n",
      "9/9 [==============================] - 0s 542us/step\n",
      "9/9 [==============================] - 0s 567us/step\n",
      "9/9 [==============================] - 0s 433us/step\n",
      "9/9 [==============================] - 0s 511us/step\n",
      "9/9 [==============================] - 0s 478us/step\n",
      "9/9 [==============================] - 0s 477us/step\n",
      "9/9 [==============================] - 0s 429us/step\n",
      "9/9 [==============================] - 0s 1ms/step\n",
      "9/9 [==============================] - 0s 484us/step\n",
      "9/9 [==============================] - 0s 2ms/step\n",
      "9/9 [==============================] - 0s 538us/step\n",
      "9/9 [==============================] - 0s 607us/step\n",
      "9/9 [==============================] - 0s 543us/step\n",
      "9/9 [==============================] - 0s 535us/step\n",
      "9/9 [==============================] - 0s 675us/step\n",
      "9/9 [==============================] - 0s 684us/step\n",
      "9/9 [==============================] - 0s 571us/step\n",
      "9/9 [==============================] - 0s 433us/step\n",
      "9/9 [==============================] - 0s 664us/step\n",
      "9/9 [==============================] - 0s 655us/step\n",
      "9/9 [==============================] - 0s 509us/step\n",
      "9/9 [==============================] - 0s 452us/step\n",
      "9/9 [==============================] - 0s 621us/step\n",
      "9/9 [==============================] - 0s 717us/step\n",
      "9/9 [==============================] - 0s 534us/step\n",
      "9/9 [==============================] - 0s 446us/step\n",
      "9/9 [==============================] - 0s 573us/step\n",
      "9/9 [==============================] - 0s 543us/step\n",
      "9/9 [==============================] - 0s 660us/step\n",
      "9/9 [==============================] - 0s 650us/step\n",
      "9/9 [==============================] - 0s 714us/step\n",
      "9/9 [==============================] - 0s 454us/step\n",
      "40\n",
      "9/9 [==============================] - 0s 568us/step\n",
      "9/9 [==============================] - 0s 534us/step\n",
      "9/9 [==============================] - 0s 403us/step\n",
      "9/9 [==============================] - 0s 1ms/step\n",
      "9/9 [==============================] - 0s 2ms/step\n",
      "9/9 [==============================] - 0s 642us/step\n",
      "9/9 [==============================] - 0s 546us/step\n",
      "9/9 [==============================] - 0s 2ms/step\n",
      "9/9 [==============================] - 0s 615us/step\n",
      "9/9 [==============================] - 0s 511us/step\n",
      "9/9 [==============================] - 0s 569us/step\n",
      "9/9 [==============================] - 0s 622us/step\n",
      "9/9 [==============================] - 0s 677us/step\n",
      "9/9 [==============================] - 0s 2ms/step\n",
      "9/9 [==============================] - 0s 458us/step\n",
      "9/9 [==============================] - 0s 526us/step\n",
      "9/9 [==============================] - 0s 492us/step\n",
      "9/9 [==============================] - 0s 427us/step\n",
      "9/9 [==============================] - 0s 627us/step\n",
      "Fail for inversion\n",
      "9/9 [==============================] - 0s 468us/step\n",
      "9/9 [==============================] - 0s 502us/step\n",
      "9/9 [==============================] - 0s 520us/step\n",
      "9/9 [==============================] - 0s 624us/step\n",
      "9/9 [==============================] - 0s 598us/step\n",
      "9/9 [==============================] - 0s 437us/step\n",
      "9/9 [==============================] - 0s 567us/step\n",
      "9/9 [==============================] - 0s 423us/step\n",
      "9/9 [==============================] - 0s 581us/step\n",
      "9/9 [==============================] - 0s 466us/step\n",
      "9/9 [==============================] - 0s 429us/step\n",
      "9/9 [==============================] - 0s 598us/step\n",
      "9/9 [==============================] - 0s 809us/step\n",
      "9/9 [==============================] - 0s 592us/step\n",
      "9/9 [==============================] - 0s 556us/step\n",
      "9/9 [==============================] - 0s 554us/step\n",
      "9/9 [==============================] - 0s 686us/step\n",
      "9/9 [==============================] - 0s 667us/step\n",
      "9/9 [==============================] - 0s 579us/step\n",
      "9/9 [==============================] - 0s 683us/step\n",
      "9/9 [==============================] - 0s 571us/step\n",
      "9/9 [==============================] - 0s 445us/step\n",
      "9/9 [==============================] - 0s 584us/step\n",
      "9/9 [==============================] - 0s 618us/step\n",
      "9/9 [==============================] - 0s 631us/step\n",
      "9/9 [==============================] - 0s 476us/step\n",
      "9/9 [==============================] - 0s 619us/step\n",
      "9/9 [==============================] - 0s 602us/step\n",
      "9/9 [==============================] - 0s 667us/step\n",
      "9/9 [==============================] - 0s 607us/step\n",
      "9/9 [==============================] - 0s 574us/step\n",
      "9/9 [==============================] - 0s 556us/step\n",
      "9/9 [==============================] - 0s 436us/step\n",
      "9/9 [==============================] - 0s 3ms/step\n",
      "9/9 [==============================] - 0s 1ms/step\n",
      "9/9 [==============================] - 0s 636us/step\n",
      "9/9 [==============================] - 0s 617us/step\n",
      "9/9 [==============================] - 0s 485us/step\n",
      "9/9 [==============================] - 0s 642us/step\n",
      "9/9 [==============================] - 0s 543us/step\n",
      "9/9 [==============================] - 0s 434us/step\n",
      "60\n",
      "9/9 [==============================] - 0s 443us/step\n",
      "9/9 [==============================] - 0s 457us/step\n",
      "9/9 [==============================] - 0s 489us/step\n",
      "9/9 [==============================] - 0s 469us/step\n",
      "9/9 [==============================] - 0s 433us/step\n",
      "9/9 [==============================] - 0s 458us/step\n",
      "9/9 [==============================] - 0s 430us/step\n",
      "9/9 [==============================] - 0s 454us/step\n",
      "9/9 [==============================] - 0s 486us/step\n",
      "9/9 [==============================] - 0s 476us/step\n",
      "9/9 [==============================] - 0s 458us/step\n",
      "9/9 [==============================] - 0s 519us/step\n",
      "9/9 [==============================] - 0s 553us/step\n",
      "9/9 [==============================] - 0s 421us/step\n",
      "9/9 [==============================] - 0s 452us/step\n",
      "9/9 [==============================] - 0s 458us/step\n",
      "9/9 [==============================] - 0s 455us/step\n",
      "9/9 [==============================] - 0s 481us/step\n",
      "9/9 [==============================] - 0s 465us/step\n",
      "9/9 [==============================] - 0s 440us/step\n",
      "9/9 [==============================] - 0s 441us/step\n",
      "9/9 [==============================] - 0s 444us/step\n",
      "9/9 [==============================] - 0s 420us/step\n",
      "9/9 [==============================] - 0s 516us/step\n",
      "9/9 [==============================] - 0s 450us/step\n",
      "9/9 [==============================] - 0s 433us/step\n",
      "9/9 [==============================] - 0s 424us/step\n",
      "9/9 [==============================] - 0s 496us/step\n",
      "9/9 [==============================] - 0s 493us/step\n",
      "9/9 [==============================] - 0s 448us/step\n",
      "9/9 [==============================] - 0s 470us/step\n",
      "9/9 [==============================] - 0s 456us/step\n",
      "9/9 [==============================] - 0s 618us/step\n",
      "9/9 [==============================] - 0s 434us/step\n",
      "9/9 [==============================] - 0s 422us/step\n",
      "9/9 [==============================] - 0s 478us/step\n",
      "9/9 [==============================] - 0s 459us/step\n",
      "9/9 [==============================] - 0s 454us/step\n",
      "9/9 [==============================] - 0s 562us/step\n",
      "9/9 [==============================] - 0s 510us/step\n",
      "9/9 [==============================] - 0s 461us/step\n",
      "9/9 [==============================] - 0s 444us/step\n",
      "9/9 [==============================] - 0s 439us/step\n",
      "9/9 [==============================] - 0s 575us/step\n",
      "9/9 [==============================] - 0s 847us/step\n",
      "9/9 [==============================] - 0s 638us/step\n",
      "9/9 [==============================] - 0s 574us/step\n",
      "9/9 [==============================] - 0s 461us/step\n",
      "9/9 [==============================] - 0s 423us/step\n",
      "9/9 [==============================] - 0s 434us/step\n",
      "9/9 [==============================] - 0s 494us/step\n",
      "9/9 [==============================] - 0s 416us/step\n",
      "9/9 [==============================] - 0s 446us/step\n",
      "9/9 [==============================] - 0s 423us/step\n",
      "9/9 [==============================] - 0s 518us/step\n",
      "9/9 [==============================] - 0s 437us/step\n",
      "9/9 [==============================] - 0s 458us/step\n",
      "9/9 [==============================] - 0s 450us/step\n",
      "9/9 [==============================] - 0s 414us/step\n",
      "9/9 [==============================] - 0s 501us/step\n",
      "80\n",
      "9/9 [==============================] - 0s 444us/step\n",
      "9/9 [==============================] - 0s 468us/step\n",
      "9/9 [==============================] - 0s 567us/step\n",
      "9/9 [==============================] - 0s 432us/step\n",
      "9/9 [==============================] - 0s 416us/step\n",
      "9/9 [==============================] - 0s 432us/step\n",
      "9/9 [==============================] - 0s 406us/step\n",
      "9/9 [==============================] - 0s 434us/step\n",
      "9/9 [==============================] - 0s 490us/step\n",
      "9/9 [==============================] - 0s 444us/step\n",
      "9/9 [==============================] - 0s 467us/step\n",
      "9/9 [==============================] - 0s 431us/step\n",
      "9/9 [==============================] - 0s 573us/step\n",
      "9/9 [==============================] - 0s 441us/step\n",
      "9/9 [==============================] - 0s 449us/step\n",
      "9/9 [==============================] - 0s 450us/step\n",
      "9/9 [==============================] - 0s 429us/step\n",
      "9/9 [==============================] - 0s 430us/step\n",
      "9/9 [==============================] - 0s 536us/step\n",
      "9/9 [==============================] - 0s 460us/step\n",
      "9/9 [==============================] - 0s 584us/step\n",
      "9/9 [==============================] - 0s 450us/step\n",
      "9/9 [==============================] - 0s 716us/step\n",
      "9/9 [==============================] - 0s 446us/step\n",
      "9/9 [==============================] - 0s 440us/step\n",
      "9/9 [==============================] - 0s 522us/step\n",
      "9/9 [==============================] - 0s 422us/step\n",
      "9/9 [==============================] - 0s 527us/step\n",
      "9/9 [==============================] - 0s 478us/step\n",
      "9/9 [==============================] - 0s 443us/step\n",
      "9/9 [==============================] - 0s 426us/step\n",
      "9/9 [==============================] - 0s 428us/step\n",
      "9/9 [==============================] - 0s 636us/step\n",
      "9/9 [==============================] - 0s 656us/step\n",
      "9/9 [==============================] - 0s 445us/step\n",
      "9/9 [==============================] - 0s 454us/step\n",
      "9/9 [==============================] - 0s 547us/step\n",
      "9/9 [==============================] - 0s 607us/step\n",
      "9/9 [==============================] - 0s 447us/step\n",
      "9/9 [==============================] - 0s 407us/step\n",
      "9/9 [==============================] - 0s 580us/step\n",
      "9/9 [==============================] - 0s 423us/step\n",
      "9/9 [==============================] - 0s 493us/step\n",
      "9/9 [==============================] - 0s 875us/step\n",
      "9/9 [==============================] - 0s 450us/step\n",
      "9/9 [==============================] - 0s 445us/step\n",
      "9/9 [==============================] - 0s 431us/step\n",
      "9/9 [==============================] - 0s 580us/step\n",
      "9/9 [==============================] - 0s 419us/step\n",
      "9/9 [==============================] - 0s 558us/step\n",
      "9/9 [==============================] - 0s 574us/step\n",
      "9/9 [==============================] - 0s 705us/step\n",
      "9/9 [==============================] - 0s 415us/step\n",
      "9/9 [==============================] - 0s 531us/step\n",
      "9/9 [==============================] - 0s 425us/step\n",
      "9/9 [==============================] - 0s 418us/step\n",
      "9/9 [==============================] - 0s 414us/step\n",
      "9/9 [==============================] - 0s 426us/step\n",
      "9/9 [==============================] - 0s 407us/step\n",
      "9/9 [==============================] - 0s 457us/step\n"
     ]
    },
    {
     "name": "stderr",
     "output_type": "stream",
     "text": [
      "/var/folders/8t/rt03lktd63z_37vmxz10hy0w0000gn/T/ipykernel_32861/145466283.py:399: FutureWarning: \n",
      "\n",
      "`shade` is now deprecated in favor of `fill`; setting `fill=True`.\n",
      "This will become an error in seaborn v0.14.0; please update your code.\n",
      "\n",
      "  sns.kdeplot(np.array(debias_B_true) /  np.sqrt(np.array(debias_var_B_true)/(int(Q))) , shade = True,color=tencent_blue,label = \"Ours(debiased)\",alpha=0.1)\n",
      "/var/folders/8t/rt03lktd63z_37vmxz10hy0w0000gn/T/ipykernel_32861/145466283.py:400: FutureWarning: \n",
      "\n",
      "`shade` is now deprecated in favor of `fill`; setting `fill=True`.\n",
      "This will become an error in seaborn v0.14.0; please update your code.\n",
      "\n",
      "  sns.kdeplot(np.array(undebias_B_true) /  np.sqrt(np.array(undebias_var_B_true)/(int(Q))) , shade = True,color='red',label = \"Ours(undebiased)\",alpha=0.1)\n",
      "/var/folders/8t/rt03lktd63z_37vmxz10hy0w0000gn/T/ipykernel_32861/145466283.py:401: FutureWarning: \n",
      "\n",
      "`shade` is now deprecated in favor of `fill`; setting `fill=True`.\n",
      "This will become an error in seaborn v0.14.0; please update your code.\n",
      "\n",
      "  sns.kdeplot(np.array(dim_B) / np.sqrt(np.array(dim_var_B)), shade = True,color=tencent_orange,label = \"DIM\",alpha=0.1)\n"
     ]
    },
    {
     "data": {
      "image/png": "[encoded data removed]",
      "text/plain": [
       "<Figure size 640x480 with 1 Axes>"
      ]
     },
     "metadata": {},
     "output_type": "display_data"
    }
   ],
   "source": [
    "dim_B, dim_var_B= [],[]\n",
    "debias_B_true, debias_var_B_true = [],[] \n",
    "undebias_B_true, debias_var_old_B_true = [],[]\n",
    "truth= []\n",
    "undebias_var_B_true = []\n",
    "## Number of iterations of DGP\n",
    "B = 100\n",
    "## Number of videos \n",
    "JQ_sizes = [(50,1000), (100,1000), (200, 1000)]\n",
    "training_ratio = 0.4\n",
    "\n",
    "num_features = 2 \n",
    "\n",
    "## Consideration set size \n",
    "Ks = [5,10,20]\n",
    "\n",
    "JQ_sizes = [(30,800)]\n",
    "Ks = [5]\n",
    "\n",
    "\n",
    "for (J, Q) in JQ_sizes:\n",
    "    for K in Ks:\n",
    "        print(\"Start K = {}, Q = {}, J = {}\".format(str(K), str(Q), str(J)))\n",
    "        dim_B, dim_var_B= [],[]\n",
    "        debias_B_true, debias_var_B_true = [],[] \n",
    "        undebias_B_true, debias_var_old_B_true = [],[]\n",
    "        truth= []\n",
    "\n",
    "\n",
    "        ## True Outcome Model test \n",
    "        L = 1\n",
    "        ith_treat = 0\n",
    "        M = 100\n",
    "        groupNames = [0,1]\n",
    "        k = K\n",
    "        n_folds = 3\n",
    "        for b in range(B):\n",
    "            if b % 20 == 0:\n",
    "                print(b)\n",
    "            ## DGP and data pre-processing \n",
    "            query_matrix,X_goodbads,X_utility,W_matrix, exposure_matrix, outcome_potential= DGP(uplift_ratio, K,Q,J)\n",
    "\n",
    "            ## Fix in v2: add cross-fitting to the code \n",
    "            all_inds = generate_indices(np.array(query_matrix).shape[0], n_folds)\n",
    "            \n",
    "\n",
    "            ## Iterate over each fold for cross-validation. \n",
    "\n",
    "            hfuncs_each_fold,  debias_terms_each_fold = {},{}\n",
    "            for f in range(n_folds):\n",
    "                f_start, f_end = all_inds[f]\n",
    "                query_train, query_test = train_test_split(np.array(query_matrix), all_inds, f)\n",
    "                X_goodbads_train, X_goodbads_test =  train_test_split(X_goodbads, all_inds, f) \n",
    "                X_utility_train, X_utility_test =  train_test_split(X_utility, all_inds, f)  \n",
    "                W_matrix_train, W_matrix_test = train_test_split(W_matrix, all_inds, f) \n",
    "                observed_queries_treatment = np.sum(exposure_matrix * W_matrix, axis = 1 )\n",
    "                observed_outcome = np.sum(outcome_potential * exposure_matrix, axis = 1 )\n",
    "\n",
    "                T, C = observed_outcome[observed_queries_treatment == groupNames[ith_treat + 1 ]] , observed_outcome[observed_queries_treatment == 0]  \n",
    "                exposure_matrix_train,exposure_matrix_test =train_test_split(exposure_matrix, all_inds, f) \n",
    "                outcome_matrix = exposure_matrix * outcome_potential\n",
    "                outcome_matrix = np.sum(outcome_matrix, axis = 1 ).reshape(outcome_matrix.shape[0],1)\n",
    "\n",
    "                observed_outcome_train, observed_outcome_test = train_test_split(observed_outcome, all_inds, f) \n",
    "                outcome_matrix_train, outcome_matrix_test = train_test_split(outcome_matrix, all_inds, f) \n",
    "                outcome_potential_train, outcome_potential_test = train_test_split(outcome_potential, all_inds, f)  \n",
    "                inputs_3d_train = tf.stack([X_goodbads_train,X_utility_train, W_matrix_train, X_utility_train ], axis = -1)\n",
    "                inputs_3d_test = tf.stack([X_goodbads_test,X_utility_test, W_matrix_test, X_utility_test], axis = -1)\n",
    "\n",
    "\n",
    "\n",
    "\n",
    "\n",
    "                input_3d_test_treat = tf.stack([X_goodbads_test,X_utility_test, np.ones(W_matrix_test.shape), X_utility_test], axis = -1)\n",
    "                input_3d_test_control = tf.stack([X_goodbads_test,X_utility_test, np.zeros(W_matrix_test.shape), X_utility_test], axis = -1)\n",
    "                output_3d_train = tf.concat([tf.cast(exposure_matrix_train, dtype=float),outcome_matrix_train], axis = 1)\n",
    "                output_3d_test = tf.concat([tf.cast(exposure_matrix_test, dtype=float),outcome_matrix_test ], axis = 1)\n",
    "\n",
    "                exposure_indicator_array = exposure_matrix_test\n",
    "\n",
    "\n",
    "                ## Get treatment indicator matrix\n",
    "                w_dict = {}\n",
    "\n",
    "                for l in range(L):\n",
    "                    w_dict[l] = tf.convert_to_tensor(W_matrix == groupNames[l+1], dtype = float)\n",
    "\n",
    "                training_num = int(W_matrix.shape[0] * training_ratio)\n",
    "                testing_num = W_matrix.shape[0] - training_num\n",
    "\n",
    "\n",
    "                w_all_treat = tf.convert_to_tensor(np.array([[1] * k for _ in range(W_matrix.shape[0])],dtype='float32'))\n",
    "                w_all_control = tf.convert_to_tensor(np.array([[0] * k for _ in range(W_matrix.shape[0])],dtype='float32'))\n",
    "\n",
    "                inputs_all_treat_3d = tf.stack([X_goodbads,X_utility] + [w_all_treat if l == ith_treat else w_all_control for l in range(L)] +[ X_utility], axis = 2)\n",
    "                inputs_all_control_3d = tf.stack([X_goodbads,X_utility] + [w_all_control if l == ith_treat else w_all_control for l in range(L)] +[ X_utility ], axis = 2)\n",
    "                inputs_all_treat_3d = tf.cast(inputs_all_treat_3d, dtype = 'float32')\n",
    "                inputs_all_control_3d = tf.cast(inputs_all_control_3d, dtype = 'float32')\n",
    "\n",
    "                ## All other all_treated \n",
    "                inputs_all_treat_3d_dict = {} \n",
    "                for l in range(L):\n",
    "                    inputs_all_treat_3d_l = tf.stack([X_goodbads,X_utility] + [w_all_treat if l == v else w_all_control for v in range(L)] +[ X_utility ], axis = 2)\n",
    "                    #inputs_all_treat_3d_l = tf.stack([x_basebid, x_sort_score, x_bid,x_ecpm, x_cvr] + [w_all_treat if v == l else w_all_control for v in range(L)] + [x_cvr], axis = 2)\n",
    "                    inputs_all_treat_3d_dict[l] = tf.cast(inputs_all_treat_3d_l, dtype = 'float32')\n",
    "\n",
    "                exposure_indicator_outcome_train, exposure_indicator_outcome_test = outcome_matrix_train, outcome_matrix_test\n",
    "                inputs_all_treat_3d_test = input_3d_test_treat\n",
    "                inputs_all_control_3d_test = input_3d_test_control\n",
    "                is_selected_indicator_train,is_selected_indicator_test = exposure_matrix_train,exposure_matrix_test\n",
    "\n",
    "                treat_control_dict = {} \n",
    "                for l in range(L):\n",
    "\n",
    "                    \n",
    "                    inputs_3d_train_l,inputs_3d_test_l= train_test_split(inputs_all_treat_3d_dict[l], all_inds, f) \n",
    "\n",
    "                    treat_control_dict[l] = {'train':inputs_3d_train_l, 'test': inputs_3d_test_l}\n",
    "\n",
    "                myModelMultiple = MyModel_True(K, L, uplift_ratio)\n",
    "                myModelMultiple_random = MyModel_Random(K, L, uplift_ratio)\n",
    "                # myModelMultiple.compile(loss=custom_loss,optimizer=tf.keras.optimizers.legacy.Adam())\n",
    "                # myModelMultiple.fit(input_3d_train,output_3d_train , epochs=10, verbose=False)\n",
    "                exposure_indicator_array = is_selected_indicator_test\n",
    "                treatment_indicator_array = 1 * (np.array(w_dict[ith_treat])[f_start:f_end,:])\n",
    "\n",
    "                res_tempt = np.array(myModelMultiple.predict(inputs_all_treat_3d_test)) - np.array(myModelMultiple.predict(inputs_all_control_3d_test))\n",
    "\n",
    "\n",
    "                pred_H_new = np.array(myModelMultiple.predict(inputs_all_treat_3d_test)) - np.array(myModelMultiple.predict(inputs_all_control_3d_test))\n",
    "                model_pred_H = np.array(myModelMultiple.predict(inputs_3d_test))\n",
    "                model_pred_all_treat = myModelMultiple.predict(inputs_all_treat_3d_test)\n",
    "                model_pred_all_control = myModelMultiple.predict(inputs_all_control_3d_test)\n",
    "                all_treat_array, all_control_array = np.array(model_pred_all_treat), np.array(model_pred_all_control)\n",
    "\n",
    "                ## All other counterfactuals \n",
    "                counterfactual_pred_dict = {} \n",
    "                for l in range(L):\n",
    "                    model_pred_all_l = myModelMultiple.predict(treat_control_dict[l]['test'])\n",
    "                    counterfactual_pred_dict[l] = model_pred_all_l\n",
    "\n",
    "                ## Outcome - prediction model \n",
    "                indicator_bool = tf.cast(is_selected_indicator_train, dtype=tf.bool)\n",
    "                selected_elements = tf.boolean_mask(inputs_3d_train[:,:,:num_features], indicator_bool)\n",
    "\n",
    "                input_to_outcomemodel_train = tf.reshape(selected_elements, (inputs_3d_train.shape[0], num_features))\n",
    "                # Define your base model\n",
    "                base_model = tf.keras.Sequential()\n",
    "                base_model.add(layers.Dense(1, input_shape=(num_features,)))\n",
    "\n",
    "                # Compile the model\n",
    "                base_model.compile(optimizer='sgd', loss='mean_squared_error')\n",
    "                base_model.fit(input_to_outcomemodel_train,output_3d_train[:, K],epochs=50, verbose=False)\n",
    "                # Now define a new model for prediction\n",
    "                model_for_prediction = tf.keras.Sequential()\n",
    "                model_for_prediction.add(layers.TimeDistributed(base_model, input_shape=(K, num_features)))\n",
    "                predictions = model_for_prediction.predict(inputs_3d_test[:,:,:num_features])\n",
    "                # Remove the third dimension of size 1\n",
    "                numpy_array_pred = np.squeeze(predictions, axis=2)\n",
    "\n",
    "                mus_T, mus_C  = numpy_array_pred,numpy_array_pred\n",
    "                p_T, p_C  = all_treat_array[:, :k], all_control_array[:,:k]\n",
    "                rewards_array = observed_outcome_test\n",
    "                rewards_array = rewards_array.reshape(rewards_array.shape[0],1)\n",
    "                Ey1,Ey0 = np.sum(mus_T * p_T, axis = 1), np.sum(mus_C * p_C, axis = 1)\n",
    "                pv1,pv0 = np.sum(exposure_indicator_array * p_T, axis = 1), np.sum(exposure_indicator_array * p_C, axis = 1)\n",
    "\n",
    "                pv_given_uvw = p_T * treatment_indicator_array + p_C * (1 - treatment_indicator_array)\n",
    "\n",
    "\n",
    "                p_realized = model_pred_H[:,:K]\n",
    "\n",
    "\n",
    "\n",
    "                ## 1. COMPUTE THE GRADIENT OF LOSSS  \n",
    "                ## FIX: change to realized outcome \n",
    "                #dl1dtheta0 = pv_given_uvw - exposure_indicator_array\n",
    "                dl1dtheta0 = p_realized - exposure_indicator_array\n",
    "                dl1dtheta0 = dl1dtheta0[:, 1:] \n",
    "\n",
    "\n",
    "                ## FIX: iterate over all L \n",
    "                dl1dthetal_dict = {} \n",
    "                for l in range(L):\n",
    "                    treatment_indicator_array_l = w_dict[l][f_start:f_end, :]\n",
    "                    dl1dthetal_dict[l] = treatment_indicator_array_l *  (p_realized - exposure_indicator_array)\n",
    "                dl2dmu = exposure_indicator_array * (mus_T -rewards_array)\n",
    "                gradient_vector_l = np.concatenate([dl1dtheta0]+[dl1dthetal_dict[l] for l in range(L)] +[dl2dmu], axis =1 )\n",
    "\n",
    "\n",
    "\n",
    "\n",
    "\n",
    "                ## 2. COMPUTE  THE GRADIENT OF H FUNCTION\n",
    "                dHdtheta0 = p_T * (mus_T - Ey1.reshape(mus_T.shape[0],1)) - p_C * (mus_C - Ey0.reshape(mus_C.shape[0],1))\n",
    "                dHdtheta0 = dHdtheta0[:, 1:]\n",
    "\n",
    "\n",
    "\n",
    "                ## FIX: iterate over each l \n",
    "                dHdthetal_dict = {} \n",
    "                for l in range(L):\n",
    "\n",
    "                    p_T_thetal = counterfactual_pred_dict[l][:,:k]\n",
    "                    Eyl = np.sum(mus_T * p_T_thetal, axis = 1)\n",
    "                    dHdthetal_dict[l] = p_T_thetal * (mus_T - Eyl.reshape(mus_T.shape[0],1))\n",
    "                    ## 0 for the groups that are not the target treatment group \n",
    "                    if l != ith_treat:\n",
    "                        dHdthetal_dict[l] = 0 * (p_T_thetal * (mus_T - Eyl.reshape(mus_T.shape[0],1)))\n",
    "\n",
    "                #dHdthetal = p_T * (mus_T - Ey1.reshape(mus_T.shape[0],1))\n",
    "                dHdmu = p_T - p_C\n",
    "                #gradient_vector_H = np.concatenate([dHdtheta0,dHdthetal,dHdmu], axis =1 )\n",
    "\n",
    "                ## FIX: iterate over all l \n",
    "                gradient_vector_H = np.concatenate([dHdtheta0]+[dHdthetal_dict[l] for l in range(L)]+[dHdmu], axis =1 )\n",
    "                ## Gradient over all other treatments \n",
    "\n",
    "\n",
    "\n",
    "\n",
    "\n",
    "                ## 3. FIND THE EXPECTATION OF HESSIAN MATRIX \n",
    "\n",
    "\n",
    "\n",
    "                Hessian_all = np.zeros((inputs_3d_test.shape[0],(L+2) * K - 1,  (L+2) * K - 1))\n",
    "\n",
    "                montecarlo_expected_probability = np.zeros(exposure_indicator_array.shape)\n",
    "\n",
    "                selected_indicator_dict  = {}\n",
    "                assignment_pd_dict = {} \n",
    "                dmu_dict = {} \n",
    "\n",
    "\n",
    "\n",
    "\n",
    "                for m in range(M):\n",
    "                    treat_dict_m = permute_treatment_dict(J)\n",
    "\n",
    "\n",
    "\n",
    "\n",
    "\n",
    "                M = 500\n",
    "                for m in range(M):\n",
    "                    w_dict_m = {} \n",
    "                    treat_dict_m = permute_treatment_dict(J)\n",
    "                    W_matrix_m = []\n",
    "                    for i in range(np.array(query_matrix).shape[0]):\n",
    "                        ## Form the consideration set \n",
    "                        each_query=np.array(query_matrix)[i,:]\n",
    "                        W_matrix_m = np.append(W_matrix_m, [[treat_dict_m[ind] for ind in each_query]])\n",
    "\n",
    "                    W_matrix_m = W_matrix_m.reshape(np.array(query_matrix).shape)\n",
    "\n",
    "\n",
    "\n",
    "                    for l in range(L):\n",
    "                        w_dict_m[l] = tf.convert_to_tensor(W_matrix_m == groupNames[l + 1], dtype = float)\n",
    "\n",
    "\n",
    "                    inputs_3d_m = tf.stack([X_goodbads,X_utility]+  [w_dict_m[l] for l in range(L)] +[X_goodbads], axis = -1)\n",
    "                    inputs_3d_test_m = inputs_3d_m[f_start:f_end,:]\n",
    "                    model_pred_m = np.array(myModelMultiple.predict(inputs_3d_test_m))[:,:k]\n",
    "                    outer_product_pv1pv2 = np.array([np.outer(row_[1:], row_[1:]) for row_ in model_pred_m])\n",
    "                    outer_product_treatment_indicator = np.array([np.outer(row_, row_) for row_ in model_pred_m])\n",
    "                    outer_product_pv1_one_minus_pv2 = np.array([np.outer(row_, 1-row_) for row_ in model_pred_m])\n",
    "                    p_treat = 1/(L+1) \n",
    "\n",
    "                    is_selected_indicator_test = np.array(exposure_matrix[f_start:f_end,:])\n",
    "                    selected_indicator_dict[m] = is_selected_indicator_test \n",
    "                    d2l2dtheta0 = - np.array([np.outer(row_, row_) for row_ in model_pred_m])\n",
    "\n",
    "                    ## FIX: Iterate over l \n",
    "                    d2l2dthetal_dict = {}\n",
    "                    for l in range(L):\n",
    "                        ## K by K \n",
    "\n",
    "                        w_m_l = np.array(w_dict_m[l][f_start:f_end,:])\n",
    "\n",
    "                        ## Off-diagonal terms \n",
    "                        # d2l2dtheta1 =  np.array([np.outer(row_, row_) for row_ in w_m_l]) * np.array([np.outer(row_, row_) for row_ in model_pred_m])\n",
    "                        d2l2dtheta1 = - p_treat * p_treat * np.array([np.outer(row_, row_) for row_ in model_pred_m])\n",
    "                        ## Modify diagonal terms\n",
    "                        for i in range(d2l2dtheta1.shape[0]):\n",
    "                            treat_indicator_i = w_m_l[i,:]\n",
    "                            probs_i = model_pred_m[i,:]\n",
    "                            # np.fill_diagonal(d2l2dtheta1[i],treat_indicator_i * probs_i * (1-probs_i))\n",
    "                            np.fill_diagonal(d2l2dtheta1[i], p_treat * probs_i * (1-probs_i))\n",
    "                        d2l2dthetal_dict[l] = d2l2dtheta1\n",
    "\n",
    "\n",
    "\n",
    "                    ## FIX: iterate over all l1, l2 \n",
    "                    d2ldthetal1dthetal2 = {} \n",
    "                    for l in range(L):\n",
    "                        w_m_l = np.array(w_dict_m[l][f_start:f_end,:])\n",
    "                        ## Off-diagonal terms \n",
    "                        #d2l2dtheta0dtheta1 = - np.multiply(w_m_l[:,np.newaxis], np.array([np.outer(row_, row_) for row_ in model_pred_m]))\n",
    "                        d2l2dtheta0dtheta1 = - p_treat * np.array([np.outer(row_, row_) for row_ in model_pred_m])\n",
    "                        for i in range(d2l2dtheta0dtheta1.shape[0]):\n",
    "                            treat_indicator_i = w_m_l[i,:]\n",
    "                            p_1minusp_i = model_pred_m[i,:] * (1 - model_pred_m[i,:])\n",
    "                            #np.fill_diagonal(d2l2dtheta0dtheta1[i], treat_indicator_i * p_1minusp_i)\n",
    "                            np.fill_diagonal(d2l2dtheta0dtheta1[i], p_treat * p_1minusp_i)\n",
    "\n",
    "                        ## NOTE: -1 to indicate the baseline theta \n",
    "                        d2ldthetal1dthetal2[(-1,l)] = d2l2dtheta0dtheta1[:,1:,:]\n",
    "                        d2ldthetal1dthetal2[(l,-1)] = np.transpose(d2l2dtheta0dtheta1[:,1:,:], (0,2,1))\n",
    "                        for l_prime in range(L):\n",
    "                            if l != l_prime: \n",
    "                                #w_m_l = np.array(w_dict_m[l][training_num:,:])\n",
    "                                #w_m_l_prime = np.array(w_dict_m[l_prime][training_num:,:])\n",
    "                                #indicator_outer = np.array([np.outer(w_m_l[i,:], w_m_l_prime[i,:]) for i in range(w_m_l.shape[0])])\n",
    "\n",
    "                                #d2l2dthetal1dthetal2 = -  indicator_outer * np.array([np.outer(row_, row_) for row_ in model_pred_m])\n",
    "                                d2l2dthetal1dthetal2 = -  p_treat * p_treat * np.array([np.outer(row_, row_) for row_ in model_pred_m])\n",
    "                                d2ldthetal1dthetal2[(l,l_prime)]  = d2l2dthetal1dthetal2\n",
    "                                d2ldthetal1dthetal2[(l_prime,l)]  = np.transpose(d2l2dthetal1dthetal2, (0,2,1))\n",
    "                            else:\n",
    "                                d2ldthetal1dthetal2[(l,l)] = d2l2dthetal_dict[l]\n",
    "\n",
    "\n",
    "                    d2l2dmu = np.zeros(d2l2dtheta1.shape)\n",
    "\n",
    "                    # treatment_indicator_array_m = \n",
    "                    for i in range(d2l2dmu.shape[0]):\n",
    "                        #p_1minusp_i = (1 - model_pred_m[i,:]) * (1 - model_pred_m[i,:])\n",
    "                        p_1minusp_i = model_pred_m[i,:] * (1 - model_pred_m[i,:])\n",
    "                        # treatment_i = treatment_indicator_array[i,:]\n",
    "                        # exposure_i = is_selected_indicator_test[i,:]\n",
    "                        np.fill_diagonal(d2l2dtheta0[i], p_1minusp_i)\n",
    "                        np.fill_diagonal(d2l2dmu[i], model_pred_m[i,:])\n",
    "\n",
    "\n",
    "\n",
    "                    d2l2dtheta0 = d2l2dtheta0[:,1:, 1:]\n",
    "                    # d2l2dtheta01_k_m_1_by_k = d2l2dtheta01[:, 1:,:]\n",
    "                    # d2l2dtheta10_k_by_k_m_1 = d2l2dtheta01[:, :,1:]\n",
    "                    Hessian_first_row = np.concatenate([d2l2dtheta0] + [d2ldthetal1dthetal2[(-1, l)] for l in range(L)] + [np.zeros((d2l2dtheta0.shape[0], K-1, K))], axis =2)\n",
    "\n",
    "                    ## 1 to L + 1 row \n",
    "                    Hessian_middle_dict = {}\n",
    "                    for l in range(L):\n",
    "                        row_l = np.concatenate([d2ldthetal1dthetal2[(l, -1)]] + [d2ldthetal1dthetal2[(l, l_prime)] for l_prime in range(L)] +[np.zeros((d2l2dtheta0.shape[0], K, K))], axis =2)\n",
    "\n",
    "                        Hessian_middle_dict[l] = row_l                                                                           \n",
    "\n",
    "\n",
    "                    Hessian_third_row = np.concatenate((np.zeros((d2l2dtheta0.shape[0], K, K  * (L + 1 ) - 1 )), d2l2dmu), axis =2)\n",
    "\n",
    "                    Hessian = np.concatenate([Hessian_first_row] + [Hessian_middle_dict[l] for l in range(L)] + [Hessian_third_row], axis = 1 )\n",
    "\n",
    "                    dmu_dict[m] = d2l2dmu\n",
    "\n",
    "                    Hessian_all = Hessian_all + Hessian\n",
    "\n",
    "                Hessian_final = Hessian_all / M\n",
    "                count_finite = 0\n",
    "                score_funcs = np.zeros(len(Hessian_final))\n",
    "                for i in range(len(Hessian_final)):\n",
    "                    if is_invertible(Hessian_final[i]):\n",
    "                        try:\n",
    "                            score_funcs[i] = gradient_vector_H[i]@np.linalg.inv(Hessian_final[i])@gradient_vector_l[i]\n",
    "                            count_finite += 1 \n",
    "                        except: \n",
    "                            print(\"Fail for inversion\")\n",
    "                outs_1 = res_tempt[score_funcs !=0,K]\n",
    "\n",
    "\n",
    "                ## END OF FOR LOOP FOR EACH ITERATION OVER CROSS FITTING\n",
    "                hfuncs_f, debias_term_f = outs_1,score_funcs[score_funcs!=0]\n",
    "                # debias_point_f,  debias_var_f, undebiased_point_f  = debias_estimator(outs_1, score_funcs[score_funcs!=0])\n",
    "                # debias_point_each_fold += [debias_point_f]  \n",
    "                # debias_var_each_fold += [debias_var_f]\n",
    "                # undebiased_point_each_fold += [undebiased_point_f]\n",
    "                hfuncs_each_fold[f] =hfuncs_f\n",
    "                debias_terms_each_fold[f] = debias_term_f\n",
    "\n",
    "            tau_hat_undebias = np.mean([ np.mean(hfuncs_each_fold[f])for f in range(n_folds)])\n",
    "            tau_hat_debias = np.mean([ np.mean(hfuncs_each_fold[f] - debias_terms_each_fold[f])  for f in range(n_folds)])\n",
    "            debias_point = tau_hat_debias\n",
    "            debias_var = np.mean([debias_estimator_new(hfuncs_each_fold[f] ,debias_terms_each_fold[f], tau_hat_debias)[1] for f in range(n_folds)])\n",
    "            undebias_var = np.mean([undebias_estimator_new(hfuncs_each_fold[f] ,tau_hat_undebias)[1] for f in range(n_folds)])\n",
    "            undebias_point = tau_hat_undebias\n",
    "            dim_point, dim_var = dim_est(T, C)\n",
    "            dim_B += [dim_point]\n",
    "            dim_var_B += [dim_var]\n",
    "            debias_B_true += [debias_point]\n",
    "            debias_var_B_true += [debias_var]\n",
    "            undebias_B_true += [undebias_point]\n",
    "            undebias_var_B_true += [undebias_var]\n",
    "\n",
    "        result_df = pd.DataFrame({\"debias_point\": debias_B_true, \"debias_var\":debias_var_B_true, \"dim\": dim_B, \n",
    "                                 \"dim_var\":dim_var_B, \"undebias_point\": undebias_B_true, \"J\" : J,\"Q\": Q, \"K\":K })\n",
    "        result_df.to_csv(\"result2405new/new_{}_synthetic_aa_j{}q{}k{}_100_{}.csv\".format(str(int(time.time())),str(J), str(Q), str(K), str(uplift_ratio).replace('.','')))\n",
    "        plt.figure() \n",
    "        sns.kdeplot(np.array(debias_B_true) /  np.sqrt(np.array(debias_var_B_true)/(int(Q))) , shade = True,color=tencent_blue,label = \"Ours(debiased)\",alpha=0.1)\n",
    "        sns.kdeplot(np.array(undebias_B_true) /  np.sqrt(np.array(undebias_var_B_true)/(int(Q))) , shade = True,color='red',label = \"Ours(undebiased)\",alpha=0.1)\n",
    "        sns.kdeplot(np.array(dim_B) / np.sqrt(np.array(dim_var_B)), shade = True,color=tencent_orange,label = \"DIM\",alpha=0.1)\n",
    "        plt.plot(x, y_standard_normal, color='black', label=\"Standard Normal\", ls='--')\n",
    "        plt.legend()\n",
    "        \n",
    "        plt.savefig(\"result2405new/new_{}_synthetic_aa_j{}q{}k{}_density{}.png\".format(str(int(time.time())), str(J), str(Q), str(K), str(uplift_ratio).replace('.','')))"
   ]
  },
  {
   "cell_type": "code",
   "execution_count": 171,
   "metadata": {},
   "outputs": [],
   "source": [
    "result_df = pd.DataFrame({\"debias_point\": np.array(debias_B_true)-1, \"debias_var\":np.array(debias_var_B_true)-1, \"dim\": np.array(dim_B)-1, \n",
    "                            \"dim_var\":dim_var_B, \"undebias_point\": undebias_B_true, \"undebias_var\" : undebias_var_B_true, \"J\" : J,\"Q\": Q, \"K\":K })"
   ]
  },
  {
   "cell_type": "code",
   "execution_count": 172,
   "metadata": {},
   "outputs": [],
   "source": [
    "result_df.to_csv(\"result2405new/aa_bias.csv\")"
   ]
  },
  {
   "cell_type": "code",
   "execution_count": 165,
   "metadata": {},
   "outputs": [
    {
     "name": "stderr",
     "output_type": "stream",
     "text": [
      "/var/folders/8t/rt03lktd63z_37vmxz10hy0w0000gn/T/ipykernel_32861/1136559431.py:2: FutureWarning: \n",
      "\n",
      "`shade` is now deprecated in favor of `fill`; setting `fill=True`.\n",
      "This will become an error in seaborn v0.14.0; please update your code.\n",
      "\n",
      "  sns.kdeplot((np.array(debias_B_true) - 1) /  np.sqrt(np.array(debias_var_B_true)/(int(Q))) , shade = True,color=tencent_blue,label = \"Ours(debiased)\",alpha=0.1)\n",
      "/var/folders/8t/rt03lktd63z_37vmxz10hy0w0000gn/T/ipykernel_32861/1136559431.py:3: FutureWarning: \n",
      "\n",
      "`shade` is now deprecated in favor of `fill`; setting `fill=True`.\n",
      "This will become an error in seaborn v0.14.0; please update your code.\n",
      "\n",
      "  sns.kdeplot((np.array(undebias_B_true)-1) /  np.sqrt(np.array(undebias_var_B_true)/(int(Q))) , shade = True,color='red',label = \"Ours(undebiased)\",alpha=0.1)\n",
      "/var/folders/8t/rt03lktd63z_37vmxz10hy0w0000gn/T/ipykernel_32861/1136559431.py:4: FutureWarning: \n",
      "\n",
      "`shade` is now deprecated in favor of `fill`; setting `fill=True`.\n",
      "This will become an error in seaborn v0.14.0; please update your code.\n",
      "\n",
      "  sns.kdeplot((np.array(dim_B)-1) / np.sqrt(np.array(dim_var_B)), shade = True,color=tencent_orange,label = \"DIM\",alpha=0.1)\n"
     ]
    },
    {
     "data": {
      "image/png": "[encoded data removed]",
      "text/plain": [
       "<Figure size 640x480 with 1 Axes>"
      ]
     },
     "metadata": {},
     "output_type": "display_data"
    }
   ],
   "source": [
    "plt.figure() \n",
    "sns.kdeplot((np.array(debias_B_true) - 1) /  np.sqrt(np.array(debias_var_B_true)/(int(Q))) , shade = True,color=tencent_blue,label = \"Ours(debiased)\",alpha=0.1)\n",
    "sns.kdeplot((np.array(undebias_B_true)-1) /  np.sqrt(np.array(undebias_var_B_true)/(int(Q))) , shade = True,color='red',label = \"Ours(undebiased)\",alpha=0.1)\n",
    "sns.kdeplot((np.array(dim_B)-1) / np.sqrt(np.array(dim_var_B)), shade = True,color=tencent_orange,label = \"DIM\",alpha=0.1)\n",
    "plt.plot(x, y_standard_normal, color='black', label=\"Standard Normal\", ls='--')\n",
    "plt.legend()\n",
    "\n",
    "plt.savefig(\"result2405new/AB_plot_new_{}_synthetic_aa_j{}q{}k{}_density{}.png\".format(str(int(time.time())), str(J), str(Q), str(K), str(uplift_ratio).replace('.','')))"
   ]
  },
  {
   "cell_type": "code",
   "execution_count": 166,
   "metadata": {},
   "outputs": [
    {
     "data": {
      "text/plain": [
       "0.9998973562297789"
      ]
     },
     "execution_count": 166,
     "metadata": {},
     "output_type": "execute_result"
    }
   ],
   "source": [
    "np.mean(undebias_B_true)"
   ]
  },
  {
   "cell_type": "code",
   "execution_count": 167,
   "metadata": {},
   "outputs": [
    {
     "data": {
      "text/plain": [
       "0.9889744371163391"
      ]
     },
     "execution_count": 167,
     "metadata": {},
     "output_type": "execute_result"
    }
   ],
   "source": [
    "np.mean(debias_B_true)"
   ]
  },
  {
   "cell_type": "code",
   "execution_count": null,
   "metadata": {},
   "outputs": [],
   "source": [
    "plt.figure() \n",
    "sns.kdeplot((np.array(debias_B_true) - 1) /  np.sqrt(np.array(debias_var_B_true)/(int(Q))) , shade = True,color=tencent_blue,label = \"Ours(debiased)\",alpha=0.1)\n",
    "sns.kdeplot((np.array(undebias_B_true)-1) /  np.sqrt(np.array(undebias_var_B_true)/(int(Q))) , shade = True,color='red',label = \"Ours(undebiased)\",alpha=0.1)\n",
    "sns.kdeplot((np.array(dim_B)-1) / np.sqrt(np.array(dim_var_B)), shade = True,color=tencent_orange,label = \"DIM\",alpha=0.1)\n",
    "plt.plot(x, y_standard_normal, color='black', label=\"Standard Normal\", ls='--')\n",
    "plt.legend()\n",
    "\n",
    "plt.savefig(\"result2405new/AB_plot_new_{}_synthetic_aa_j{}q{}k{}_density{}.png\".format(str(int(time.time())), str(J), str(Q), str(K), str(uplift_ratio).replace('.','')))"
   ]
  },
  {
   "cell_type": "code",
   "execution_count": 21,
   "metadata": {},
   "outputs": [
    {
     "data": {
      "text/plain": [
       "2.135910608227538"
      ]
     },
     "execution_count": 21,
     "metadata": {},
     "output_type": "execute_result"
    }
   ],
   "source": [
    "np.mean([undebias_estimator_new(hfuncs_each_fold[f] ,tau_hat_undebias)[1] for f in range(n_folds)])"
   ]
  },
  {
   "cell_type": "code",
   "execution_count": 18,
   "metadata": {},
   "outputs": [
    {
     "data": {
      "text/plain": [
       "array([0.03933085, 0.0424891 , 0.04443004, 0.04312402, 0.0446908 ,\n",
       "       0.0443037 , 0.04640344, 0.04147065, 0.04376858, 0.04620856,\n",
       "       0.03929771, 0.04282472, 0.03754242, 0.04303195, 0.04262914,\n",
       "       0.04111774, 0.03840048, 0.04105075, 0.04195991, 0.04525505,\n",
       "       0.04003356, 0.04439367, 0.03887688, 0.04131435, 0.04249267,\n",
       "       0.04066437, 0.04143187, 0.04353405, 0.04371462, 0.04307449,\n",
       "       0.04282268, 0.04626568, 0.04389099, 0.04234505, 0.0409563 ,\n",
       "       0.04778946, 0.04402007, 0.04246734, 0.04609795, 0.0383043 ,\n",
       "       0.04760242, 0.04158091, 0.04710728, 0.04223181, 0.04509957,\n",
       "       0.04298899, 0.0437782 , 0.04477155, 0.0456346 , 0.04561083,\n",
       "       0.04373887, 0.04657138, 0.04024379, 0.04579814, 0.04229292,\n",
       "       0.0420206 , 0.03991841, 0.04828655, 0.04322153, 0.04482983,\n",
       "       0.04226   , 0.04494336, 0.04454485, 0.0409877 , 0.04144452,\n",
       "       0.04454716, 0.04598581, 0.04640789, 0.04144408, 0.04366758,\n",
       "       0.04545103, 0.04256248, 0.04519621, 0.04063017, 0.04295322,\n",
       "       0.04222496, 0.04710274, 0.04235406, 0.04496561, 0.04720344,\n",
       "       0.04392414, 0.04427486, 0.04683966, 0.03808575, 0.04164265,\n",
       "       0.04056906, 0.04625619, 0.04044562, 0.04433524, 0.0412401 ,\n",
       "       0.04400054, 0.04295576, 0.0400168 , 0.04080361, 0.04367762,\n",
       "       0.0383967 , 0.04563314, 0.04267051, 0.04080968, 0.04880414])"
      ]
     },
     "execution_count": 18,
     "metadata": {},
     "output_type": "execute_result"
    }
   ],
   "source": [
    "np.sqrt(np.array(debias_var_B_true)/1000)"
   ]
  },
  {
   "cell_type": "code",
   "execution_count": null,
   "metadata": {},
   "outputs": [],
   "source": []
  },
  {
   "cell_type": "code",
   "execution_count": 24,
   "metadata": {},
   "outputs": [
    {
     "name": "stderr",
     "output_type": "stream",
     "text": [
      "/opt/.jupyter/lib/python3.7/site-packages/ipykernel_launcher.py:1: FutureWarning: \n",
      "\n",
      "`shade` is now deprecated in favor of `fill`; setting `fill=True`.\n",
      "This will become an error in seaborn v0.14.0; please update your code.\n",
      "\n",
      "  \"\"\"Entry point for launching an IPython kernel.\n",
      "/opt/.jupyter/lib/python3.7/site-packages/ipykernel_launcher.py:1: UserWarning: Dataset has 0 variance; skipping density estimate. Pass `warn_singular=False` to disable this warning.\n",
      "  \"\"\"Entry point for launching an IPython kernel.\n",
      "/opt/.jupyter/lib/python3.7/site-packages/ipykernel_launcher.py:2: FutureWarning: \n",
      "\n",
      "`shade` is now deprecated in favor of `fill`; setting `fill=True`.\n",
      "This will become an error in seaborn v0.14.0; please update your code.\n",
      "\n",
      "  \n",
      "/opt/.jupyter/lib/python3.7/site-packages/ipykernel_launcher.py:2: UserWarning: Dataset has 0 variance; skipping density estimate. Pass `warn_singular=False` to disable this warning.\n",
      "  \n"
     ]
    },
    {
     "data": {
      "text/plain": [
       "<matplotlib.legend.Legend at 0x7f048074a890>"
      ]
     },
     "execution_count": 24,
     "metadata": {},
     "output_type": "execute_result"
    },
    {
     "data": {
      "image/png": "[encoded data removed]",
      "text/plain": [
       "<Figure size 432x288 with 1 Axes>"
      ]
     },
     "metadata": {
      "needs_background": "light"
     },
     "output_type": "display_data"
    }
   ],
   "source": [
    "sns.kdeplot(np.array(debias_B_true) /  np.sqrt(np.array(debias_var_B_true)/(int(Q/n_folds))) , shade = True,color=tencent_blue,label = \"Ours\",alpha=0.1)\n",
    "sns.kdeplot(np.array(dim_B) / np.sqrt(np.array(dim_var_B)), shade = True,color=tencent_orange,label = \"DIM\",alpha=0.1)\n",
    "plt.plot(x, y_standard_normal, color='black', label=\"Standard Normal\", ls='--')\n",
    "plt.legend()"
   ]
  },
  {
   "cell_type": "code",
   "execution_count": 16,
   "metadata": {},
   "outputs": [],
   "source": [
    "## Alternatively, restore results from files \n",
    "result_pd = pd.read_csv(\"result2405new/synthetic_aa_j50q1000k5_100.csv\")\n",
    "debias_B_true = np.array(result_pd['debias_point'])\n",
    "debias_var_B_true = np.array(result_pd['debias_var'])\n",
    "dim_B =  np.array(result_pd['dim'])\n",
    "dim_var_B =  np.array(result_pd['dim_var'])\n",
    "undebias_B_true =  np.array(result_pd['undebias_point'])\n",
    "Q = result_pd['Q'].values[0]\n"
   ]
  },
  {
   "cell_type": "code",
   "execution_count": 45,
   "metadata": {},
   "outputs": [
    {
     "name": "stdout",
     "output_type": "stream",
     "text": [
      "The mean of debias estimator: \n"
     ]
    },
    {
     "data": {
      "text/plain": [
       "0.00534794431700648"
      ]
     },
     "execution_count": 45,
     "metadata": {},
     "output_type": "execute_result"
    }
   ],
   "source": [
    "print(\"The mean of debias estimator: \")\n",
    "np.mean(debias_B_true)"
   ]
  },
  {
   "cell_type": "code",
   "execution_count": 46,
   "metadata": {},
   "outputs": [
    {
     "name": "stdout",
     "output_type": "stream",
     "text": [
      "The mean of undebais estimator: \n"
     ]
    },
    {
     "data": {
      "text/plain": [
       "0.006304546398725099"
      ]
     },
     "execution_count": 46,
     "metadata": {},
     "output_type": "execute_result"
    }
   ],
   "source": [
    "print(\"The mean of undebais estimator: \")\n",
    "np.mean(undebias_B_true)"
   ]
  },
  {
   "cell_type": "code",
   "execution_count": 47,
   "metadata": {},
   "outputs": [
    {
     "name": "stdout",
     "output_type": "stream",
     "text": [
      "The mean of difference in means estimator: \n"
     ]
    },
    {
     "data": {
      "text/plain": [
       "-0.0020664674767521475"
      ]
     },
     "execution_count": 47,
     "metadata": {},
     "output_type": "execute_result"
    }
   ],
   "source": [
    "print(\"The mean of difference in means estimator: \")\n",
    "np.mean(dim_B)"
   ]
  },
  {
   "cell_type": "code",
   "execution_count": 49,
   "metadata": {},
   "outputs": [
    {
     "data": {
      "text/plain": [
       "0.0645356984832383"
      ]
     },
     "execution_count": 49,
     "metadata": {},
     "output_type": "execute_result"
    }
   ],
   "source": [
    "np.mean(np.array(debias_B_true) /  np.sqrt(np.array(debias_var_B_true)/(int(Q))))"
   ]
  },
  {
   "cell_type": "code",
   "execution_count": 58,
   "metadata": {},
   "outputs": [
    {
     "data": {
      "text/plain": [
       "-0.013110619688956509"
      ]
     },
     "execution_count": 58,
     "metadata": {},
     "output_type": "execute_result"
    }
   ],
   "source": [
    "np.mean(undebias_B_true)"
   ]
  },
  {
   "cell_type": "code",
   "execution_count": 57,
   "metadata": {},
   "outputs": [
    {
     "data": {
      "text/plain": [
       "-0.00559628461560289"
      ]
     },
     "execution_count": 57,
     "metadata": {},
     "output_type": "execute_result"
    }
   ],
   "source": [
    "np.mean(debias_B_true)"
   ]
  },
  {
   "cell_type": "code",
   "execution_count": 59,
   "metadata": {},
   "outputs": [
    {
     "data": {
      "text/plain": [
       "-0.06413286616691673"
      ]
     },
     "execution_count": 59,
     "metadata": {},
     "output_type": "execute_result"
    }
   ],
   "source": [
    "np.mean(dim_B)"
   ]
  },
  {
   "cell_type": "code",
   "execution_count": 56,
   "metadata": {},
   "outputs": [
    {
     "name": "stderr",
     "output_type": "stream",
     "text": [
      "/opt/.jupyter/lib/python3.7/site-packages/ipykernel_launcher.py:1: FutureWarning: \n",
      "\n",
      "`shade` is now deprecated in favor of `fill`; setting `fill=True`.\n",
      "This will become an error in seaborn v0.14.0; please update your code.\n",
      "\n",
      "  \"\"\"Entry point for launching an IPython kernel.\n",
      "/opt/.jupyter/lib/python3.7/site-packages/ipykernel_launcher.py:2: FutureWarning: \n",
      "\n",
      "`shade` is now deprecated in favor of `fill`; setting `fill=True`.\n",
      "This will become an error in seaborn v0.14.0; please update your code.\n",
      "\n",
      "  \n",
      "/opt/.jupyter/lib/python3.7/site-packages/ipykernel_launcher.py:3: FutureWarning: \n",
      "\n",
      "`shade` is now deprecated in favor of `fill`; setting `fill=True`.\n",
      "This will become an error in seaborn v0.14.0; please update your code.\n",
      "\n",
      "  This is separate from the ipykernel package so we can avoid doing imports until\n"
     ]
    },
    {
     "data": {
      "text/plain": [
       "<matplotlib.legend.Legend at 0x7f04ef3adf50>"
      ]
     },
     "execution_count": 56,
     "metadata": {},
     "output_type": "execute_result"
    },
    {
     "data": {
      "image/png": "[encoded data removed]",
      "text/plain": [
       "<Figure size 432x288 with 1 Axes>"
      ]
     },
     "metadata": {
      "needs_background": "light"
     },
     "output_type": "display_data"
    }
   ],
   "source": [
    "sns.kdeplot((np.array(debias_B_true)) /  np.sqrt(np.array(debias_var_B_true)/(int(Q))) , shade = True,color=tencent_blue,label = \"Ours(debiased)\",alpha=0.1)\n",
    "sns.kdeplot((np.array(undebias_B_true)) /  np.sqrt(np.array(undebias_var_B_true)/(int(Q))) , shade = True,color='red',label = \"Ours(undebiased)\",alpha=0.1)\n",
    "sns.kdeplot((np.array(dim_B)) / np.sqrt(np.array(dim_var_B)), shade = True,color=tencent_orange,label = \"DIM\",alpha=0.1)\n",
    "plt.plot(x, y_standard_normal, color='black', label=\"Standard Normal\", ls='--')\n",
    "plt.legend()\n",
    "# plt.savefig(\"result2404new/comparison_estimators.png\")"
   ]
  },
  {
   "cell_type": "code",
   "execution_count": 43,
   "metadata": {},
   "outputs": [
    {
     "data": {
      "text/plain": [
       "2"
      ]
     },
     "execution_count": 43,
     "metadata": {},
     "output_type": "execute_result"
    }
   ],
   "source": [
    "1 + 1 "
   ]
  },
  {
   "cell_type": "code",
   "execution_count": null,
   "metadata": {},
   "outputs": [],
   "source": []
  },
  {
   "cell_type": "code",
   "execution_count": null,
   "metadata": {},
   "outputs": [],
   "source": []
  },
  {
   "cell_type": "code",
   "execution_count": null,
   "metadata": {},
   "outputs": [],
   "source": [
    "# gradient_vector_H[i]@np.linalg.inv(Hessian_final[i])@gradient_vector_l[i]"
   ]
  },
  {
   "cell_type": "code",
   "execution_count": null,
   "metadata": {},
   "outputs": [],
   "source": [
    "# np.linalg.inv(Hessian_final[i])"
   ]
  },
  {
   "cell_type": "code",
   "execution_count": null,
   "metadata": {},
   "outputs": [],
   "source": [
    "debias_B_true"
   ]
  },
  {
   "cell_type": "code",
   "execution_count": null,
   "metadata": {},
   "outputs": [],
   "source": [
    "is_invertible(Hessian_final[i])"
   ]
  },
  {
   "cell_type": "code",
   "execution_count": null,
   "metadata": {},
   "outputs": [],
   "source": [
    "from scipy.special import kl_div"
   ]
  },
  {
   "cell_type": "code",
   "execution_count": null,
   "metadata": {},
   "outputs": [],
   "source": [
    "expos_mat = exposure_matrix_test.astype(float)\n",
    "probs_mat = model_pred_H[:, :K]\n",
    "def bootstrap_evaluation(probs_mat, expos_mat, B = 100):\n",
    "    nrows = probs_mat.shape[0]\n",
    "    kl_div_list, NDCG_list = [], []\n",
    "    for b in range(B):\n",
    "        indices = np.random.choice(nrows, size=nrows, replace=True)\n",
    "        probs_mat_b = probs_mat[indices,:]\n",
    "        expos_mat_b = expos_mat[indices,:]\n",
    "        \n",
    "        _, agg_probs_b, agg_expos_b, NDCG_b = aggregate_probability_exposure_examination(probs_mat_b, expos_mat_b)\n",
    "        kl_divergence_b = kl_div(agg_probs_b,agg_expos_b).sum()\n",
    "\n",
    "        kl_div_list += [kl_divergence_b]\n",
    "        NDCG_list += [NDCG_b]\n",
    "    return kl_div_list, NDCG_list \n",
    "kl_, ndcg_ = bootstrap_evaluation(probs_mat.astype(np.float32), expos_mat.astype(np.float32))\n",
    "\n",
    "# aggregate_probability_exposure_examination(probs_mat.astype(np.float32), expos_mat.astype(np.float32))"
   ]
  },
  {
   "cell_type": "code",
   "execution_count": null,
   "metadata": {},
   "outputs": [],
   "source": [
    "sns.kdeplot(ndcg_)"
   ]
  },
  {
   "cell_type": "code",
   "execution_count": null,
   "metadata": {},
   "outputs": [],
   "source": []
  },
  {
   "cell_type": "code",
   "execution_count": null,
   "metadata": {},
   "outputs": [],
   "source": []
  }
 ],
 "metadata": {
  "kernelspec": {
   "display_name": "Python 3 (ipykernel)",
   "language": "python",
   "name": "python3"
  },
  "language_info": {
   "codemirror_mode": {
    "name": "ipython",
    "version": 3
   },
   "file_extension": ".py",
   "mimetype": "text/x-python",
   "name": "python",
   "nbconvert_exporter": "python",
   "pygments_lexer": "ipython3",
   "version": "3.11.3"
  }
 },
 "nbformat": 4,
 "nbformat_minor": 4
}
