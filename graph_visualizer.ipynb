{
 "cells": [
  {
   "cell_type": "code",
   "execution_count": 36,
   "id": "f110f6f0-54bf-4d2c-9241-e7a7adb4e8af",
   "metadata": {},
   "outputs": [],
   "source": [
    "import pandas as pd \n",
    "import numpy as np \n",
    "import matplotlib.pyplot as plt \n",
    "import seaborn as sns \n",
    "import seaborn as sns\n",
    "x = np.linspace(-4, 4, 100)\n",
    "tencent_blue = (0,0.3215686274509804,0.8509803921568627)\n",
    "tencent_orange = (0.9333333333333333, 0.49411764705882355, 0.2784313725490196)\n",
    "\n",
    "\n",
    "# Calculate y-values for the standard normal density curve\n",
    "y_standard_normal = (1 / np.sqrt(2 * np.pi)) * np.exp(-0.5 * x**2)"
   ]
  },
  {
   "cell_type": "code",
   "execution_count": 42,
   "id": "39ca464f-d348-499b-be29-7e6b3359bbd1",
   "metadata": {},
   "outputs": [],
   "source": [
    "result_pd = pd.read_csv(\"result2405new/aa_bias.csv\")"
   ]
  },
  {
   "cell_type": "code",
   "execution_count": 43,
   "id": "1929c5da-9c95-457c-a036-6dacaee260a1",
   "metadata": {},
   "outputs": [
    {
     "data": {
      "text/plain": [
       "Unnamed: 0          int64\n",
       "debias_point      float64\n",
       "debias_var        float64\n",
       "dim               float64\n",
       "dim_var           float64\n",
       "undebias_point    float64\n",
       "undebias_var      float64\n",
       "J                   int64\n",
       "Q                   int64\n",
       "K                   int64\n",
       "dtype: object"
      ]
     },
     "execution_count": 43,
     "metadata": {},
     "output_type": "execute_result"
    }
   ],
   "source": [
    "result_pd.dtypes"
   ]
  },
  {
   "cell_type": "code",
   "execution_count": 44,
   "id": "eaa4a89e-7235-490d-9454-7e84292a1f91",
   "metadata": {},
   "outputs": [
    {
     "data": {
      "text/plain": [
       "800"
      ]
     },
     "execution_count": 44,
     "metadata": {},
     "output_type": "execute_result"
    }
   ],
   "source": [
    "result_pd['Q'].values[0]"
   ]
  },
  {
   "cell_type": "code",
   "execution_count": 45,
   "id": "0e04d9a4-3966-4b63-a02a-b28081a0c073",
   "metadata": {},
   "outputs": [],
   "source": [
    "# result_pd = pd.read_csv(\"result2405new/synthetic_aa_j50q1000k5_100.csv\")\n",
    "debias_B_true = np.array(result_pd['debias_point'])\n",
    "debias_var_B_true = np.array(result_pd['debias_var'])\n",
    "dim_B =  np.array(result_pd['dim'])\n",
    "dim_var_B =  np.array(result_pd['dim_var'])\n",
    "undebias_B_true =  np.array(result_pd['undebias_point'])\n",
    "undebias_var_B_true = np.array(result_pd['undebias_var'])\n",
    "Q = result_pd['Q'].values[0]\n",
    "n_folds=3"
   ]
  },
  {
   "cell_type": "code",
   "execution_count": 46,
   "id": "28c04fd6-ed71-4bc6-84bd-f53b157dc1af",
   "metadata": {},
   "outputs": [],
   "source": [
    "# sns.kdeplot(np.array(debias_B_true) /  np.sqrt(np.array(debias_var_B_true)/(int(Q/n_folds))) , shade = True,color=tencent_blue,label = \"Ours(debiased)\",alpha=0.1)\n",
    "# sns.kdeplot(np.array(undebias_B_true) /  np.sqrt(np.array(debias_var_B_true)/(int(Q/n_folds))) , shade = True,color='red',label = \"Ours(undebiased)\",alpha=0.1)\n",
    "# sns.kdeplot(np.array(dim_B) / np.sqrt(np.array(dim_var_B)), shade = True,color=tencent_orange,label = \"DIM\",alpha=0.1)\n",
    "# plt.plot(x, y_standard_normal, color='black', label=\"Standard Normal\", ls='--')\n",
    "# plt.legend()\n",
    "# # plt.savefig(\"result2404new/comparison_estimators.png\")"
   ]
  },
  {
   "cell_type": "code",
   "execution_count": 48,
   "id": "0b7775b6-2ed5-457a-9052-fc474f5b4d45",
   "metadata": {},
   "outputs": [
    {
     "name": "stderr",
     "output_type": "stream",
     "text": [
      "/opt/.jupyter/lib/python3.7/site-packages/ipykernel_launcher.py:2: FutureWarning: \n",
      "\n",
      "`shade` is now deprecated in favor of `fill`; setting `fill=True`.\n",
      "This will become an error in seaborn v0.14.0; please update your code.\n",
      "\n",
      "  \n",
      "/opt/.jupyter/lib/python3.7/site-packages/ipykernel_launcher.py:3: FutureWarning: \n",
      "\n",
      "`shade` is now deprecated in favor of `fill`; setting `fill=True`.\n",
      "This will become an error in seaborn v0.14.0; please update your code.\n",
      "\n",
      "  This is separate from the ipykernel package so we can avoid doing imports until\n",
      "/opt/.jupyter/lib/python3.7/site-packages/ipykernel_launcher.py:4: FutureWarning: \n",
      "\n",
      "`shade` is now deprecated in favor of `fill`; setting `fill=True`.\n",
      "This will become an error in seaborn v0.14.0; please update your code.\n",
      "\n",
      "  after removing the cwd from sys.path.\n"
     ]
    },
    {
     "data": {
      "text/plain": [
       "<matplotlib.legend.Legend at 0x7fa4238622d0>"
      ]
     },
     "execution_count": 48,
     "metadata": {},
     "output_type": "execute_result"
    },
    {
     "data": {
      "image/png": "[encoded data removed]",
      "text/plain": [
       "<Figure size 432x288 with 1 Axes>"
      ]
     },
     "metadata": {
      "needs_background": "light"
     },
     "output_type": "display_data"
    }
   ],
   "source": [
    "plt.figure() \n",
    "sns.kdeplot((np.array(debias_B_true) ) /  np.sqrt(np.array(debias_var_B_true)/(int(Q))) , shade = True,color=tencent_blue,label = \"Ours(debiased)\",alpha=0.1)\n",
    "sns.kdeplot((np.array(undebias_B_true)-1) /  np.sqrt(np.array(undebias_var_B_true)/(int(Q))) , shade = True,color='red',label = \"Ours(undebiased)\",alpha=0.1)\n",
    "sns.kdeplot((np.array(dim_B)) / np.sqrt(np.array(dim_var_B)), shade = True,color=tencent_orange,label = \"DIM\",alpha=0.1)\n",
    "plt.plot(x, y_standard_normal, color='black', label=\"Standard Normal\", ls='--')\n",
    "plt.legend()\n",
    "# plt.savefig(\"result2405new/AB_plot_007.png\")\n"
   ]
  },
  {
   "cell_type": "code",
   "execution_count": null,
   "id": "2eef3f37-2a05-415a-a9d3-0e778573f98f",
   "metadata": {},
   "outputs": [],
   "source": []
  }
 ],
 "metadata": {
  "kernelspec": {
   "display_name": "Python 3 (ipykernel)",
   "language": "python",
   "name": "python3"
  },
  "language_info": {
   "codemirror_mode": {
    "name": "ipython",
    "version": 3
   },
   "file_extension": ".py",
   "mimetype": "text/x-python",
   "name": "python",
   "nbconvert_exporter": "python",
   "pygments_lexer": "ipython3",
   "version": "3.7.7"
  }
 },
 "nbformat": 4,
 "nbformat_minor": 5
}
