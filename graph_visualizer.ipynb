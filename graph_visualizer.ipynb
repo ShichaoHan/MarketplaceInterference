{
 "cells": [
  {
   "cell_type": "code",
   "execution_count": 1,
   "id": "f110f6f0-54bf-4d2c-9241-e7a7adb4e8af",
   "metadata": {},
   "outputs": [],
   "source": [
    "import pandas as pd \n",
    "import numpy as np \n",
    "import matplotlib.pyplot as plt \n",
    "import seaborn as sns \n",
    "import seaborn as sns\n",
    "x = np.linspace(-4, 4, 100)\n",
    "tencent_blue = (0,0.3215686274509804,0.8509803921568627)\n",
    "tencent_orange = (0.9333333333333333, 0.49411764705882355, 0.2784313725490196)\n",
    "\n",
    "\n",
    "# Calculate y-values for the standard normal density curve\n",
    "y_standard_normal = (1 / np.sqrt(2 * np.pi)) * np.exp(-0.5 * x**2)"
   ]
  },
  {
   "cell_type": "code",
   "execution_count": null,
   "id": "81d11eda-9606-452e-9429-fb08a9da8168",
   "metadata": {},
   "outputs": [],
   "source": []
  },
  {
   "cell_type": "code",
   "execution_count": 2,
   "id": "5f6da515-9b8c-44e7-8a34-e38dbf2199ff",
   "metadata": {},
   "outputs": [],
   "source": [
    "# import glob\n",
    "# result_pd = pd.DataFrame()\n",
    "# for f in glob.glob(\"results/*ebd*\"):\n",
    "#     df = pd.read_csv(f)\n",
    "#     result_pd = pd.concat([result_pd, df])"
   ]
  },
  {
   "cell_type": "code",
   "execution_count": 3,
   "id": "1929c5da-9c95-457c-a036-6dacaee260a1",
   "metadata": {},
   "outputs": [
    {
     "name": "stdout",
     "output_type": "stream",
     "text": [
      "129\n"
     ]
    }
   ],
   "source": [
    "result_pd = pd.read_csv(\"PaperResult/result_AB_more_biased_plugin.csv\")\n",
    "print(len(result_pd))"
   ]
  },
  {
   "cell_type": "code",
   "execution_count": 4,
   "id": "eaa4a89e-7235-490d-9454-7e84292a1f91",
   "metadata": {},
   "outputs": [
    {
     "data": {
      "text/html": [
       "<div>\n",
       "<style scoped>\n",
       "    .dataframe tbody tr th:only-of-type {\n",
       "        vertical-align: middle;\n",
       "    }\n",
       "\n",
       "    .dataframe tbody tr th {\n",
       "        vertical-align: top;\n",
       "    }\n",
       "\n",
       "    .dataframe thead th {\n",
       "        text-align: right;\n",
       "    }\n",
       "</style>\n",
       "<table border=\"1\" class=\"dataframe\">\n",
       "  <thead>\n",
       "    <tr style=\"text-align: right;\">\n",
       "      <th></th>\n",
       "      <th>Unnamed: 0.1</th>\n",
       "      <th>Unnamed: 0</th>\n",
       "      <th>debias_point</th>\n",
       "      <th>debias_var</th>\n",
       "      <th>dim</th>\n",
       "      <th>dim_var</th>\n",
       "      <th>undebias_point</th>\n",
       "      <th>undebias_var</th>\n",
       "      <th>J</th>\n",
       "      <th>Q</th>\n",
       "      <th>K</th>\n",
       "      <th>M</th>\n",
       "      <th>epochs</th>\n",
       "      <th>n_folds</th>\n",
       "      <th>uplift_factor</th>\n",
       "      <th>truth</th>\n",
       "      <th>truth_stderr</th>\n",
       "    </tr>\n",
       "  </thead>\n",
       "  <tbody>\n",
       "    <tr>\n",
       "      <th>0</th>\n",
       "      <td>0</td>\n",
       "      <td>0</td>\n",
       "      <td>-0.010891</td>\n",
       "      <td>0.210806</td>\n",
       "      <td>-0.003909</td>\n",
       "      <td>1.685451</td>\n",
       "      <td>-0.007922</td>\n",
       "      <td>0.001106</td>\n",
       "      <td>500</td>\n",
       "      <td>1000</td>\n",
       "      <td>3</td>\n",
       "      <td>500</td>\n",
       "      <td>500</td>\n",
       "      <td>3</td>\n",
       "      <td>0.1</td>\n",
       "      <td>0.002142</td>\n",
       "      <td>0.000377</td>\n",
       "    </tr>\n",
       "    <tr>\n",
       "      <th>1</th>\n",
       "      <td>0</td>\n",
       "      <td>0</td>\n",
       "      <td>0.010335</td>\n",
       "      <td>0.183627</td>\n",
       "      <td>-0.041941</td>\n",
       "      <td>1.547373</td>\n",
       "      <td>0.012185</td>\n",
       "      <td>0.001029</td>\n",
       "      <td>500</td>\n",
       "      <td>1000</td>\n",
       "      <td>3</td>\n",
       "      <td>500</td>\n",
       "      <td>500</td>\n",
       "      <td>3</td>\n",
       "      <td>0.1</td>\n",
       "      <td>0.001621</td>\n",
       "      <td>0.000372</td>\n",
       "    </tr>\n",
       "    <tr>\n",
       "      <th>2</th>\n",
       "      <td>0</td>\n",
       "      <td>0</td>\n",
       "      <td>0.008341</td>\n",
       "      <td>0.229381</td>\n",
       "      <td>0.004745</td>\n",
       "      <td>1.585277</td>\n",
       "      <td>0.003190</td>\n",
       "      <td>0.001559</td>\n",
       "      <td>500</td>\n",
       "      <td>1000</td>\n",
       "      <td>3</td>\n",
       "      <td>500</td>\n",
       "      <td>500</td>\n",
       "      <td>3</td>\n",
       "      <td>0.1</td>\n",
       "      <td>0.001720</td>\n",
       "      <td>0.000373</td>\n",
       "    </tr>\n",
       "    <tr>\n",
       "      <th>3</th>\n",
       "      <td>0</td>\n",
       "      <td>0</td>\n",
       "      <td>-0.003780</td>\n",
       "      <td>0.225432</td>\n",
       "      <td>-0.044192</td>\n",
       "      <td>1.501486</td>\n",
       "      <td>-0.000605</td>\n",
       "      <td>0.001561</td>\n",
       "      <td>500</td>\n",
       "      <td>1000</td>\n",
       "      <td>3</td>\n",
       "      <td>500</td>\n",
       "      <td>500</td>\n",
       "      <td>3</td>\n",
       "      <td>0.1</td>\n",
       "      <td>0.001420</td>\n",
       "      <td>0.000377</td>\n",
       "    </tr>\n",
       "    <tr>\n",
       "      <th>4</th>\n",
       "      <td>0</td>\n",
       "      <td>0</td>\n",
       "      <td>-0.026138</td>\n",
       "      <td>0.249231</td>\n",
       "      <td>-0.001225</td>\n",
       "      <td>1.648905</td>\n",
       "      <td>-0.012659</td>\n",
       "      <td>0.002165</td>\n",
       "      <td>500</td>\n",
       "      <td>1000</td>\n",
       "      <td>3</td>\n",
       "      <td>500</td>\n",
       "      <td>500</td>\n",
       "      <td>3</td>\n",
       "      <td>0.1</td>\n",
       "      <td>0.001666</td>\n",
       "      <td>0.000383</td>\n",
       "    </tr>\n",
       "  </tbody>\n",
       "</table>\n",
       "</div>"
      ],
      "text/plain": [
       "   Unnamed: 0.1  Unnamed: 0  debias_point  debias_var       dim   dim_var  \\\n",
       "0             0           0     -0.010891    0.210806 -0.003909  1.685451   \n",
       "1             0           0      0.010335    0.183627 -0.041941  1.547373   \n",
       "2             0           0      0.008341    0.229381  0.004745  1.585277   \n",
       "3             0           0     -0.003780    0.225432 -0.044192  1.501486   \n",
       "4             0           0     -0.026138    0.249231 -0.001225  1.648905   \n",
       "\n",
       "   undebias_point  undebias_var    J     Q  K    M  epochs  n_folds  \\\n",
       "0       -0.007922      0.001106  500  1000  3  500     500        3   \n",
       "1        0.012185      0.001029  500  1000  3  500     500        3   \n",
       "2        0.003190      0.001559  500  1000  3  500     500        3   \n",
       "3       -0.000605      0.001561  500  1000  3  500     500        3   \n",
       "4       -0.012659      0.002165  500  1000  3  500     500        3   \n",
       "\n",
       "   uplift_factor     truth  truth_stderr  \n",
       "0            0.1  0.002142      0.000377  \n",
       "1            0.1  0.001621      0.000372  \n",
       "2            0.1  0.001720      0.000373  \n",
       "3            0.1  0.001420      0.000377  \n",
       "4            0.1  0.001666      0.000383  "
      ]
     },
     "execution_count": 4,
     "metadata": {},
     "output_type": "execute_result"
    }
   ],
   "source": [
    "result_pd.head()"
   ]
  },
  {
   "cell_type": "code",
   "execution_count": 5,
   "id": "0e04d9a4-3966-4b63-a02a-b28081a0c073",
   "metadata": {},
   "outputs": [],
   "source": [
    "truth =  result_pd['truth']\n",
    "debias_B_true = np.array(result_pd['debias_point'])\n",
    "debias_var_B_true = np.array(result_pd['debias_var'])\n",
    "dim_B =  np.array(result_pd['dim'])\n",
    "dim_var_B =  np.array(result_pd['dim_var'])\n",
    "undebias_B_true =  np.array(result_pd['undebias_point'])\n",
    "undebias_var_B_true = np.array(result_pd['undebias_var'])\n",
    "Q = result_pd['Q'].values[0]\n",
    "n_folds = 3"
   ]
  },
  {
   "cell_type": "code",
   "execution_count": null,
   "id": "c33ec6d8-f2d9-4990-9eae-f22613f75654",
   "metadata": {},
   "outputs": [],
   "source": []
  },
  {
   "cell_type": "code",
   "execution_count": 6,
   "id": "0b7775b6-2ed5-457a-9052-fc474f5b4d45",
   "metadata": {},
   "outputs": [
    {
     "data": {
      "text/plain": [
       "<matplotlib.legend.Legend at 0x7f39a0a785b0>"
      ]
     },
     "execution_count": 6,
     "metadata": {},
     "output_type": "execute_result"
    },
    {
     "data": {
      "image/png": "[encoded data removed]",
      "text/plain": [
       "<Figure size 640x480 with 1 Axes>"
      ]
     },
     "metadata": {},
     "output_type": "display_data"
    }
   ],
   "source": [
    "plt.figure() \n",
    "sns.kdeplot((np.array(debias_B_true) - truth) /  np.sqrt(np.array(debias_var_B_true)/(int(Q))) , fill = True,color=tencent_blue,label = \"Ours(DB)\",alpha=0.1)\n",
    "sns.kdeplot((np.array(undebias_B_true)- truth) /  np.sqrt(np.array(undebias_var_B_true)/(int(Q))) , fill = True,color='red',label = \"Ours(DPI)\",alpha=0.1)\n",
    "sns.kdeplot((np.array(dim_B) - truth) / np.sqrt(np.array(dim_var_B) / int(Q)), fill = True,color=tencent_orange,label = \"DIM\",alpha=0.1)\n",
    "plt.plot(x, y_standard_normal, color='black', label=\"Standard Normal\", ls='--')\n",
    "plt.legend()\n",
    "# plt.savefig(\"AB_plot_11063000.png\")\n"
   ]
  },
  {
   "cell_type": "code",
   "execution_count": 7,
   "id": "61ef12dd-a9eb-435d-be08-995a2192976d",
   "metadata": {},
   "outputs": [],
   "source": [
    "def print_statistics(name_est, name_var, df):\n",
    "    bias = np.mean(df[name_est]-df['truth'].mean()) \n",
    "    mc_std = np.std(df[name_est]-df['truth'].mean())\n",
    "    estimate_std = np.mean(np.sqrt(df[name_var]/(int(df['Q'][0]))))\n",
    "    print(f\"Estimator {name_est}, bias {bias}, mc std {mc_std}, estimate std {estimate_std}\")"
   ]
  },
  {
   "cell_type": "code",
   "execution_count": 8,
   "id": "c909f516-d6e3-428a-921d-a4a06a8b84d0",
   "metadata": {},
   "outputs": [
    {
     "name": "stdout",
     "output_type": "stream",
     "text": [
      "Estimator debias_point, bias 0.00034690856311309255, mc std 0.013891260195304933, estimate std 0.014822041547968847\n"
     ]
    }
   ],
   "source": [
    "print_statistics('debias_point', 'debias_var', result_pd)"
   ]
  },
  {
   "cell_type": "code",
   "execution_count": 9,
   "id": "af436e2b-24c7-4a3f-bf6c-4699a15c04d7",
   "metadata": {},
   "outputs": [
    {
     "name": "stdout",
     "output_type": "stream",
     "text": [
      "Estimator undebias_point, bias 0.002484836973521793, mc std 0.011649396888362229, estimate std 0.0011465179829017321\n"
     ]
    }
   ],
   "source": [
    "print_statistics('undebias_point', 'undebias_var', result_pd)"
   ]
  },
  {
   "cell_type": "code",
   "execution_count": 10,
   "id": "e16b3ee8-8daf-4f84-a714-2f62f550f8f2",
   "metadata": {},
   "outputs": [
    {
     "name": "stdout",
     "output_type": "stream",
     "text": [
      "Estimator dim, bias 0.0036734518186562135, mc std 0.06665335287661321, estimate std 0.03953295593494646\n"
     ]
    }
   ],
   "source": [
    "print_statistics('dim', 'dim_var', result_pd)"
   ]
  },
  {
   "cell_type": "code",
   "execution_count": null,
   "id": "e8459174-bc3b-4ce9-af30-6013180dcec3",
   "metadata": {},
   "outputs": [],
   "source": []
  },
  {
   "cell_type": "code",
   "execution_count": null,
   "id": "d82460b5-7bd6-4816-be67-488063a621df",
   "metadata": {},
   "outputs": [],
   "source": []
  }
 ],
 "metadata": {
  "kernelspec": {
   "display_name": "Python 3 (ipykernel)",
   "language": "python",
   "name": "python3"
  },
  "language_info": {
   "codemirror_mode": {
    "name": "ipython",
    "version": 3
   },
   "file_extension": ".py",
   "mimetype": "text/x-python",
   "name": "python",
   "nbconvert_exporter": "python",
   "pygments_lexer": "ipython3",
   "version": "3.8.10"
  }
 },
 "nbformat": 4,
 "nbformat_minor": 5
}
