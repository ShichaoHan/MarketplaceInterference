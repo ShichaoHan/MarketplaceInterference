{
 "cells": [
  {
   "cell_type": "code",
   "execution_count": 1,
   "id": "f110f6f0-54bf-4d2c-9241-e7a7adb4e8af",
   "metadata": {},
   "outputs": [],
   "source": [
    "import pandas as pd \n",
    "import numpy as np \n",
    "import matplotlib.pyplot as plt \n",
    "import seaborn as sns \n",
    "import seaborn as sns\n",
    "x = np.linspace(-4, 4, 100)\n",
    "tencent_blue = (0,0.3215686274509804,0.8509803921568627)\n",
    "tencent_orange = (0.9333333333333333, 0.49411764705882355, 0.2784313725490196)\n",
    "\n",
    "\n",
    "# Calculate y-values for the standard normal density curve\n",
    "y_standard_normal = (1 / np.sqrt(2 * np.pi)) * np.exp(-0.5 * x**2)"
   ]
  },
  {
   "cell_type": "code",
   "execution_count": 2,
   "id": "81d11eda-9606-452e-9429-fb08a9da8168",
   "metadata": {},
   "outputs": [],
   "source": []
  },
  {
   "cell_type": "code",
   "execution_count": 3,
   "id": "5f6da515-9b8c-44e7-8a34-e38dbf2199ff",
   "metadata": {},
   "outputs": [],
   "source": []
  },
  {
   "cell_type": "code",
   "execution_count": null,
   "id": "c89a37e4-5775-4421-9e76-7b0c3e69919e",
   "metadata": {},
   "outputs": [],
   "source": []
  },
  {
   "cell_type": "code",
   "execution_count": 18,
   "id": "39ca464f-d348-499b-be29-7e6b3359bbd1",
   "metadata": {},
   "outputs": [],
   "source": [
    "# 1. run within the directory of data files \n",
    "# import os \n",
    "# dir_files = os.listdir()\n",
    "# df_list = []\n",
    "# for f in dir_files:\n",
    "#     if '.csv' in f:\n",
    "#         result_pd = pd.read_csv(f)\n",
    "#     df_list += [result_pd ]\n",
    "#result_pd = pd.concat(df_list)\n",
    "\n",
    "# 2. Alternatively, read in data from a csv file \n",
    "result_pd = pd.read_csv(\"PaperResult/results_1106Q3000_002.csv\")"
   ]
  },
  {
   "cell_type": "code",
   "execution_count": 5,
   "id": "1929c5da-9c95-457c-a036-6dacaee260a1",
   "metadata": {},
   "outputs": [],
   "source": []
  },
  {
   "cell_type": "code",
   "execution_count": 6,
   "id": "eaa4a89e-7235-490d-9454-7e84292a1f91",
   "metadata": {},
   "outputs": [],
   "source": [
    "truth =  result_pd['truth']"
   ]
  },
  {
   "cell_type": "code",
   "execution_count": 7,
   "id": "0e04d9a4-3966-4b63-a02a-b28081a0c073",
   "metadata": {},
   "outputs": [],
   "source": [
    "# result_pd = pd.read_csv(\"result2405new/synthetic_aa_j50q1000k5_100.csv\")\n",
    "debias_B_true = np.array(result_pd['debias_point'])\n",
    "debias_var_B_true = np.array(result_pd['debias_var'])\n",
    "dim_B =  np.array(result_pd['dim'])\n",
    "dim_var_B =  np.array(result_pd['dim_var'])\n",
    "undebias_B_true =  np.array(result_pd['undebias_point'])\n",
    "undebias_var_B_true = np.array(result_pd['undebias_var'])\n",
    "Q = result_pd['Q'].values[0]\n",
    "n_folds = 3"
   ]
  },
  {
   "cell_type": "code",
   "execution_count": 8,
   "id": "28c04fd6-ed71-4bc6-84bd-f53b157dc1af",
   "metadata": {},
   "outputs": [],
   "source": [
    "# sns.kdeplot(np.array(debias_B_true) /  np.sqrt(np.array(debias_var_B_true)/(int(Q/n_folds))) , shade = True,color=tencent_blue,label = \"Ours(debiased)\",alpha=0.1)\n",
    "# sns.kdeplot(np.array(undebias_B_true) /  np.sqrt(np.array(debias_var_B_true)/(int(Q/n_folds))) , shade = True,color='red',label = \"Ours(undebiased)\",alpha=0.1)\n",
    "# sns.kdeplot(np.array(dim_B) / np.sqrt(np.array(dim_var_B)), shade = True,color=tencent_orange,label = \"DIM\",alpha=0.1)\n",
    "# plt.plot(x, y_standard_normal, color='black', label=\"Standard Normal\", ls='--')\n",
    "# plt.legend()\n",
    "# # plt.savefig(\"result2404new/comparison_estimators.png\")"
   ]
  },
  {
   "cell_type": "code",
   "execution_count": 17,
   "id": "c33ec6d8-f2d9-4990-9eae-f22613f75654",
   "metadata": {},
   "outputs": [],
   "source": []
  },
  {
   "cell_type": "code",
   "execution_count": 16,
   "id": "0b7775b6-2ed5-457a-9052-fc474f5b4d45",
   "metadata": {},
   "outputs": [
    {
     "name": "stderr",
     "output_type": "stream",
     "text": [
      "/opt/.jupyter/lib/python3.7/site-packages/ipykernel_launcher.py:2: FutureWarning: \n",
      "\n",
      "`shade` is now deprecated in favor of `fill`; setting `fill=True`.\n",
      "This will become an error in seaborn v0.14.0; please update your code.\n",
      "\n",
      "  \n",
      "/opt/.jupyter/lib/python3.7/site-packages/ipykernel_launcher.py:3: FutureWarning: \n",
      "\n",
      "`shade` is now deprecated in favor of `fill`; setting `fill=True`.\n",
      "This will become an error in seaborn v0.14.0; please update your code.\n",
      "\n",
      "  This is separate from the ipykernel package so we can avoid doing imports until\n",
      "/opt/.jupyter/lib/python3.7/site-packages/ipykernel_launcher.py:4: FutureWarning: \n",
      "\n",
      "`shade` is now deprecated in favor of `fill`; setting `fill=True`.\n",
      "This will become an error in seaborn v0.14.0; please update your code.\n",
      "\n",
      "  after removing the cwd from sys.path.\n",
      "/opt/.jupyter/lib/python3.7/site-packages/ipykernel_launcher.py:7: UserWarning: Glyph 8722 (\\N{MINUS SIGN}) missing from current font.\n",
      "  import sys\n",
      "/opt/.jupyter/lib/python3.7/site-packages/IPython/core/pylabtools.py:151: UserWarning: Glyph 8722 (\\N{MINUS SIGN}) missing from current font.\n",
      "  fig.canvas.print_figure(bytes_io, **kw)\n"
     ]
    },
    {
     "data": {
      "image/png": "[encoded data removed]",
      "text/plain": [
       "<Figure size 432x288 with 1 Axes>"
      ]
     },
     "metadata": {
      "needs_background": "light"
     },
     "output_type": "display_data"
    }
   ],
   "source": [
    "plt.figure() \n",
    "sns.kdeplot((np.array(debias_B_true) - truth) /  np.sqrt(np.array(debias_var_B_true)/(int(Q))) , shade = True,color=tencent_blue,label = \"Ours(debiased)\",alpha=0.1)\n",
    "sns.kdeplot((np.array(undebias_B_true)- truth) /  np.sqrt(np.array(undebias_var_B_true)/(int(Q))) , shade = True,color='red',label = \"Ours(undebiased)\",alpha=0.1)\n",
    "sns.kdeplot((np.array(dim_B) - truth) / np.sqrt(np.array(dim_var_B) / int(Q)), shade = True,color=tencent_orange,label = \"DIM\",alpha=0.1)\n",
    "plt.plot(x, y_standard_normal, color='black', label=\"Standard Normal\", ls='--')\n",
    "plt.legend()\n",
    "plt.savefig(\"AB_plot_11063000.png\")\n"
   ]
  },
  {
   "cell_type": "code",
   "execution_count": 10,
   "id": "2eef3f37-2a05-415a-a9d3-0e778573f98f",
   "metadata": {},
   "outputs": [
    {
     "data": {
      "text/plain": [
       "0.02873132657521507"
      ]
     },
     "execution_count": 10,
     "metadata": {},
     "output_type": "execute_result"
    }
   ],
   "source": [
    "np.mean(np.abs(result_pd['debias_point']-result_pd['truth']) )"
   ]
  },
  {
   "cell_type": "code",
   "execution_count": 11,
   "id": "d8970853-e7b6-431f-92c9-9c4ba6634ee8",
   "metadata": {},
   "outputs": [
    {
     "data": {
      "text/plain": [
       "1.3999262483834005"
      ]
     },
     "execution_count": 11,
     "metadata": {},
     "output_type": "execute_result"
    }
   ],
   "source": [
    "np.mean(np.abs(result_pd['dim']-result_pd['truth']))"
   ]
  },
  {
   "cell_type": "code",
   "execution_count": 12,
   "id": "1037c10a-833b-40e6-aa1c-4addca9727dd",
   "metadata": {},
   "outputs": [
    {
     "data": {
      "text/plain": [
       "0.01683946245504318"
      ]
     },
     "execution_count": 12,
     "metadata": {},
     "output_type": "execute_result"
    }
   ],
   "source": [
    "np.mean(np.abs(result_pd['undebias_point']-result_pd['truth']))"
   ]
  },
  {
   "cell_type": "code",
   "execution_count": 13,
   "id": "d906fd53-9c67-4e59-8fae-cd12745468d9",
   "metadata": {},
   "outputs": [
    {
     "data": {
      "text/plain": [
       "-0.0044070568619519355"
      ]
     },
     "execution_count": 13,
     "metadata": {},
     "output_type": "execute_result"
    }
   ],
   "source": [
    "np.mean(result_pd['debias_point']-result_pd['truth'])"
   ]
  },
  {
   "cell_type": "code",
   "execution_count": 14,
   "id": "b9b1a225-d140-44c3-90b9-6f5436b504fa",
   "metadata": {},
   "outputs": [
    {
     "data": {
      "text/plain": [
       "0.4059923144700011"
      ]
     },
     "execution_count": 14,
     "metadata": {},
     "output_type": "execute_result"
    }
   ],
   "source": [
    "np.mean(result_pd['dim']-result_pd['truth'])"
   ]
  },
  {
   "cell_type": "code",
   "execution_count": 15,
   "id": "8c75708e-a4f4-4281-8c50-1254666edc56",
   "metadata": {},
   "outputs": [
    {
     "data": {
      "text/plain": [
       "-0.002999426437932604"
      ]
     },
     "execution_count": 15,
     "metadata": {},
     "output_type": "execute_result"
    }
   ],
   "source": [
    "np.mean(result_pd['undebias_point']-result_pd['truth'])"
   ]
  },
  {
   "cell_type": "code",
   "execution_count": null,
   "id": "b3fed9c6-5bf1-4d60-910f-32ef49339940",
   "metadata": {},
   "outputs": [],
   "source": []
  },
  {
   "cell_type": "code",
   "execution_count": null,
   "id": "a5c2dc0e-a295-4bf5-bc02-0b3977eadc5f",
   "metadata": {},
   "outputs": [],
   "source": []
  }
 ],
 "metadata": {
  "kernelspec": {
   "display_name": "Python 3 (ipykernel)",
   "language": "python",
   "name": "python3"
  },
  "language_info": {
   "codemirror_mode": {
    "name": "ipython",
    "version": 3
   },
   "file_extension": ".py",
   "mimetype": "text/x-python",
   "name": "python",
   "nbconvert_exporter": "python",
   "pygments_lexer": "ipython3",
   "version": "3.7.7"
  }
 },
 "nbformat": 4,
 "nbformat_minor": 5
}
