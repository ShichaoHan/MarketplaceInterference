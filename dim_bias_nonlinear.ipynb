{
 "cells": [
  {
   "cell_type": "code",
   "execution_count": 5,
   "metadata": {},
   "outputs": [],
   "source": [
    "import pandas as pd \n",
    "import numpy as np \n",
    "import matplotlib.pyplot as plt \n",
    "import numpy as np \n",
    "from scipy.special import kl_div\n"
   ]
  },
  {
   "cell_type": "code",
   "execution_count": 6,
   "metadata": {},
   "outputs": [],
   "source": [
    "import random\n",
    "\n",
    "random.seed(20240530)"
   ]
  },
  {
   "cell_type": "code",
   "execution_count": 7,
   "metadata": {},
   "outputs": [],
   "source": [
    "import time \n",
    "import seaborn as sns"
   ]
  },
  {
   "cell_type": "code",
   "execution_count": null,
   "metadata": {},
   "outputs": [],
   "source": []
  },
  {
   "cell_type": "markdown",
   "metadata": {},
   "source": [
    "## Data Generating Process\n"
   ]
  },
  {
   "cell_type": "code",
   "execution_count": 35,
   "metadata": {},
   "outputs": [],
   "source": [
    "\n",
    "## True Exposure Model and Data Generating Process \n",
    "def logistic_row(row):\n",
    "    return np.exp(row) / np.sum(np.exp(row))\n",
    "\n",
    "def dim_est(obs_T, obs_C, treated_probability, Q):\n",
    "    n1,n0 = len(obs_T), len(obs_C)\n",
    "    tau1 = np.sum(obs_T) / (Q*treated_probability)\n",
    "    tau0 = np.sum(obs_C)/(Q * (1-treated_probability))\n",
    "    estimate = tau1 - tau0\n",
    "    var = np.sum((obs_T - tau1)**2)/ Q/treated_probability**2  + np.sum((obs_C - tau0)**2)/ Q/(1-treated_probability)**2 \n",
    "    return estimate, var\n",
    "\n",
    "def get_ground_truth(Q, K, promo_ratio, item_embeddings, item_promotion):\n",
    "    J, d = item_embeddings.shape\n",
    "    user_embeddings = np.random.uniform(size=(Q, d))\n",
    "    utility = user_embeddings @ (item_embeddings.T)\n",
    "    baseline_score = []\n",
    "    promotions = []\n",
    "    query_matrix = []\n",
    "    embeddings = []\n",
    "    for each_query in range(Q):\n",
    "        selected_indices = np.random.choice(np.arange(J), size = K, replace= False)\n",
    "        query_matrix += [selected_indices]\n",
    "        promotions.append([item_promotion[ind] for ind in selected_indices])\n",
    "        baseline_score.append([utility[each_query, ind] for ind in selected_indices])\n",
    "        embeddings.append([np.concatenate([user_embeddings[each_query], item_embeddings[ind]]) for ind in selected_indices])\n",
    "    baseline_score = np.array(baseline_score)\n",
    "    promotions = np.array(promotions)\n",
    "    query_matrix = np.array(query_matrix)\n",
    "    embeddings = np.array(embeddings)\n",
    "\n",
    "    outcome_potential = baseline_score\n",
    "    \n",
    "    final_score_matrix_treated = promo_ratio * promotions * baseline_score  + baseline_score\n",
    "    final_score_matrix_control = baseline_score\n",
    "    p_treated = np.apply_along_axis(logistic_row, axis=1, arr=final_score_matrix_treated)\n",
    "    p_control = np.apply_along_axis(logistic_row, axis=1, arr=final_score_matrix_control)\n",
    "\n",
    "    yT = np.sum(p_treated * outcome_potential, axis=1)\n",
    "    yC = np.sum(p_control * outcome_potential, axis=1)\n",
    "    true_estimate = np.mean(yT) - np.mean(yC)\n",
    "    true_stderr = np.sqrt(np.var(yT)/ len(yT) + np.var(yC)/ len(yC))\n",
    "    return true_estimate, true_stderr\n",
    "    \n",
    "\n",
    "def DGP_new_heterogeneous_embeddings(Q, K, promo_ratio, item_embeddings, item_promotion, treated_probability=0.5):\n",
    "    J, d = item_embeddings.shape\n",
    "    user_embeddings = np.random.uniform(size=(Q, d))\n",
    "    utility = user_embeddings @ (item_embeddings.T)\n",
    "    treatment_dict = np.random.choice([1, 0], J, p=[treated_probability, 1 - treated_probability])\n",
    "\n",
    "    W_matrix = []\n",
    "    baseline_score = []\n",
    "    promotions = []\n",
    "    query_matrix = []\n",
    "    embeddings = []\n",
    "    for each_query in range(Q):\n",
    "        selected_indices = np.random.choice(np.arange(J), size = K, replace= False)\n",
    "        query_matrix += [selected_indices]\n",
    "        W_matrix.append([treatment_dict[ind] for ind in selected_indices])\n",
    "        promotions.append([item_promotion[ind] for ind in selected_indices])\n",
    "        baseline_score.append([utility[each_query, ind] for ind in selected_indices])\n",
    "        embeddings.append([np.concatenate([user_embeddings[each_query], item_embeddings[ind]]) for ind in selected_indices])\n",
    "\n",
    "    W_matrix = np.array(W_matrix)\n",
    "    baseline_score = np.array(baseline_score)\n",
    "    promotions = np.array(promotions)\n",
    "    query_matrix = np.array(query_matrix)\n",
    "    embeddings = np.array(embeddings)\n",
    "\n",
    "    final_score_matrix = W_matrix * promo_ratio * promotions * baseline_score  + baseline_score\n",
    "\n",
    "    logit = np.apply_along_axis(logistic_row, axis=1, arr=final_score_matrix)\n",
    "    expose_indices = np.array([np.random.choice(np.arange(K), size = 1, p = logit[i,:]) for i in range(Q)])\n",
    "    inddds = np.array(list(np.arange(K)) * Q).reshape(Q,K)\n",
    "    exposure_matrix = np.array([inddds[i,:] == expose_indices[i] for i in range(Q)])\n",
    "    outcome_noise =  np.random.normal(size=(Q, K)) \n",
    "    \n",
    "    ## Outcome model  \n",
    "    ## First: a true outcome model of Exponential \n",
    "    outcome_potential = baseline_score\n",
    "\n",
    "    return query_matrix, promotions, embeddings, W_matrix, outcome_potential, exposure_matrix"
   ]
  },
  {
   "cell_type": "code",
   "execution_count": 47,
   "metadata": {},
   "outputs": [],
   "source": [
    "## Number of videos \n",
    "J = 500 \n",
    "## Consideration set size \n",
    "K = 3 \n",
    "## Generate some queries along with the recommendation model \n",
    "Q = 1000\n",
    "\n",
    "np.random.seed(1)\n",
    "\n",
    "d = 2\n",
    "item_embeddings = np.random.uniform(size=(J, d))\n",
    "item_promotion = np.random.choice([1, 0], size=J)\n",
    "\n",
    "\n",
    "\n",
    "results_df = pd.DataFrame()"
   ]
  },
  {
   "cell_type": "code",
   "execution_count": 48,
   "metadata": {},
   "outputs": [
    {
     "name": "stdout",
     "output_type": "stream",
     "text": [
      "Start K = 3, Q = 1000, J = 500, uplift_ratio = 0.0\n",
      "True ATE 0.0 (0.0011850947680328518)\n",
      "0\n",
      "DIM mean 0.0008537990816353646 stderr 0.006370102037228693\n",
      "Start K = 3, Q = 1000, J = 500, uplift_ratio = 0.125\n",
      "True ATE 0.002278496600210733 (0.001186403099195667)\n",
      "0\n",
      "DIM mean 0.005539027122507796 stderr 0.005675214472182354\n",
      "Start K = 3, Q = 1000, J = 500, uplift_ratio = 0.25\n",
      "True ATE 0.004455754225024644 (0.0011900412751901816)\n",
      "0\n",
      "DIM mean 0.029920270972259543 stderr 0.006954440428735385\n",
      "Start K = 3, Q = 1000, J = 500, uplift_ratio = 0.375\n",
      "True ATE 0.006742646591648915 (0.0011954547423804174)\n",
      "0\n",
      "DIM mean 0.04953536575876265 stderr 0.007504441758820214\n",
      "Start K = 3, Q = 1000, J = 500, uplift_ratio = 0.5\n",
      "True ATE 0.008818532432561588 (0.0012008421305945434)\n",
      "0\n",
      "DIM mean 0.05845172789336892 stderr 0.006701970373077591\n"
     ]
    }
   ],
   "source": [
    "dim_B, dim_var_B= [],[]\n",
    "truth= []\n",
    "## Number of MC simulations\n",
    "B = 100\n",
    "\n",
    "treated_probability = 0.5\n",
    "\n",
    "for uplift_ratio in np.linspace(0, 0.5, 5):\n",
    "    print(f\"Start K = {K}, Q = {Q}, J = {J}, uplift_ratio = {uplift_ratio}\")\n",
    "    # Ground truth\n",
    "    true_estimate, true_stderr = get_ground_truth(Q * 100, K, uplift_ratio, item_embeddings, item_promotion)\n",
    "    \n",
    "    truth.append(true_estimate)\n",
    "    print(f\"True ATE {true_estimate} ({true_stderr})\")\n",
    "\n",
    "    # DIM\n",
    "    dim_b, dim_var_b= [],[]\n",
    "\n",
    "    ## True Outcome Model test \n",
    "    for b in range(B):\n",
    "        if b % 100 == 0:\n",
    "            print(b)\n",
    "        ## DGP and data pre-processing \n",
    "        (query_matrix, promotions, embeddings, W_matrix, \n",
    "         outcome_potential, exposure_matrix) = DGP_new_heterogeneous_embeddings(Q, K, uplift_ratio, item_embeddings, item_promotion, treated_probability=0.5)\n",
    "        observed_outcome = np.sum(outcome_potential * exposure_matrix, axis = 1 )\n",
    "        observed_queries_treatment = np.sum(exposure_matrix * W_matrix, axis = 1 )\n",
    "        T, C = observed_outcome[observed_queries_treatment == 1] , observed_outcome[observed_queries_treatment == 0]  \n",
    "        \n",
    "        dim_point, dim_var = dim_est(T, C, treated_probability, Q)\n",
    "        dim_b += [dim_point]\n",
    "        dim_var_b += [dim_var]\n",
    "\n",
    "\n",
    "    df = pd.DataFrame({\"dim\": dim_b, \"dim_var\":dim_var_b, \"J\" : J,\"Q\": Q, \"K\":K, \"uplift_ratio\":uplift_ratio, \"true_estimate\": true_estimate, \"true_stderr\": true_stderr})\n",
    "    results_df = pd.concat([df, results_df])\n",
    "    # result_df.to_csv(\"result2405new/new_heterogeneous_{}_synthetic_ab_j{}q{}k{}_100_{}.csv\".format(str(int(time.time())),str(J), str(Q), str(K), str(uplift_ratio).replace('.','')))\n",
    "    # plt.figure() \n",
    "    # # plt.hist(dim_B)\n",
    "    # sns.histplot(result_df, x='dim', stat='density')\n",
    "    \n",
    "    # #sns.kdeplot(np.array(dim_B) / np.sqrt(np.array(dim_var_B)), shade = True,color=tencent_orange,label = \"DIM\",alpha=0.1)\n",
    "    # # plt.plot(x, y_standard_normal, color='black', label=\"Standard Normal\", ls='--')\n",
    "    # plt.legend()\n",
    "    print(f\"DIM mean {np.mean(dim_b)} stderr {np.std(dim_b)/np.sqrt(B)}\")\n",
    "    dim_B.append(dim_b)\n",
    "    dim_var_B.append(dim_var_b)"
   ]
  },
  {
   "cell_type": "code",
   "execution_count": 31,
   "metadata": {},
   "outputs": [
    {
     "data": {
      "text/html": [
       "<div>\n",
       "<style scoped>\n",
       "    .dataframe tbody tr th:only-of-type {\n",
       "        vertical-align: middle;\n",
       "    }\n",
       "\n",
       "    .dataframe tbody tr th {\n",
       "        vertical-align: top;\n",
       "    }\n",
       "\n",
       "    .dataframe thead th {\n",
       "        text-align: right;\n",
       "    }\n",
       "</style>\n",
       "<table border=\"1\" class=\"dataframe\">\n",
       "  <thead>\n",
       "    <tr style=\"text-align: right;\">\n",
       "      <th></th>\n",
       "      <th>dim</th>\n",
       "      <th>dim_var</th>\n",
       "      <th>J</th>\n",
       "      <th>Q</th>\n",
       "      <th>K</th>\n",
       "      <th>uplift_ratio</th>\n",
       "      <th>true_estimate</th>\n",
       "      <th>true_stderr</th>\n",
       "    </tr>\n",
       "  </thead>\n",
       "  <tbody>\n",
       "  </tbody>\n",
       "</table>\n",
       "</div>"
      ],
      "text/plain": [
       "Empty DataFrame\n",
       "Columns: [dim, dim_var, J, Q, K, uplift_ratio, true_estimate, true_stderr]\n",
       "Index: []"
      ]
     },
     "execution_count": 31,
     "metadata": {},
     "output_type": "execute_result"
    }
   ],
   "source": [
    "results_df.query(\"uplift_ratio==1.0\")"
   ]
  },
  {
   "cell_type": "code",
   "execution_count": 24,
   "metadata": {},
   "outputs": [],
   "source": [
    "results_df['DIM Bias'] = ['Positive Bias' if r > 0 else 'Negative Bias' for r in results_df['uplift_ratio']]"
   ]
  },
  {
   "cell_type": "code",
   "execution_count": 25,
   "metadata": {},
   "outputs": [],
   "source": [
    "results_df.to_csv(\"results3005/dim_bias.csv\")"
   ]
  },
  {
   "cell_type": "code",
   "execution_count": 32,
   "metadata": {},
   "outputs": [
    {
     "data": {
      "image/png": "[encoded data removed]",
      "text/plain": [
       "<Figure size 640x480 with 1 Axes>"
      ]
     },
     "metadata": {},
     "output_type": "display_data"
    }
   ],
   "source": [
    "sns.set_style(\"ticks\")\n",
    "ax = sns.lineplot(data=results_df, x=\"uplift_ratio\", y=\"dim\")\n",
    "c = sns.color_palette()\n",
    "# ax.annotate('Negative Bias', xy=(0.25, 0.65), xytext=(0.25, 0.75), xycoords='axes fraction', \n",
    "#             fontsize=15, ha='center', va='bottom',\n",
    "#             bbox=dict(boxstyle='square', fc='white', color=c[1]),\n",
    "#             arrowprops=dict(arrowstyle=\"-[, widthB=5.5, lengthB=1.5\", lw=2.0, color=c[1]))\n",
    "\n",
    "# ax.annotate('Positive Bias', xy=(0.75, 0.35), xytext=(0.75, 0.2), xycoords='axes fraction', \n",
    "#             fontsize=15, ha='center', va='bottom',\n",
    "#             bbox=dict(boxstyle='square', fc='white', color=c[2]),\n",
    "#             arrowprops=dict(arrowstyle=\"-[, widthB=5.5, lengthB=1.5\", lw=2.0, color=c[2]))\n",
    "# ax.set_xlabel(\"Treatment Exposure Uplift Ratio $\\delta$\", fontsize=15)\n",
    "# ax.set_ylabel(\"DIM Estimate\", fontsize=15)\n",
    "# ax.axhline(y=0.0, ls='--', c='r')\n",
    "# ax.annotate('True ATE', xy=(0.75, 0.35), xytext=(0.9, 0.51), xycoords='axes fraction', \n",
    "#             fontsize=15, ha='center', va='bottom')\n",
    "# ax.set_xticks([-1.0, -0.5, 0, 0.5, 1.0])\n",
    "# ax.set_yticks([-0.6, -0.4, 0, 0.4, 0.6])\n",
    "# plt.savefig(\"results3005/dim_bias.pdf\")"
   ]
  },
  {
   "cell_type": "code",
   "execution_count": null,
   "metadata": {},
   "outputs": [],
   "source": []
  },
  {
   "cell_type": "code",
   "execution_count": null,
   "metadata": {},
   "outputs": [],
   "source": []
  }
 ],
 "metadata": {
  "kernelspec": {
   "display_name": "Python 3 (ipykernel)",
   "language": "python",
   "name": "python3"
  },
  "language_info": {
   "codemirror_mode": {
    "name": "ipython",
    "version": 3
   },
   "file_extension": ".py",
   "mimetype": "text/x-python",
   "name": "python",
   "nbconvert_exporter": "python",
   "pygments_lexer": "ipython3",
   "version": "3.8.10"
  }
 },
 "nbformat": 4,
 "nbformat_minor": 4
}
